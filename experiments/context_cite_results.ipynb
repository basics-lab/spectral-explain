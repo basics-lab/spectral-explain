{
 "cells": [
  {
   "cell_type": "code",
   "execution_count": 50,
   "metadata": {},
   "outputs": [
    {
     "name": "stdout",
     "output_type": "stream",
     "text": [
      "The autoreload extension is already loaded. To reload it, use:\n",
      "  %reload_ext autoreload\n"
     ]
    }
   ],
   "source": [
    "from transformers import AutoModelForCausalLM, AutoTokenizer, BitsAndBytesConfig\n",
    "from datasets import load_dataset, load_from_disk\n",
    "import dill as pickle\n",
    "import pandas as pd\n",
    "import string,re\n",
    "\n",
    "%load_ext autoreload\n",
    "%autoreload 2\n"
   ]
  },
  {
   "cell_type": "code",
   "execution_count": 2,
   "metadata": {},
   "outputs": [
    {
     "name": "stderr",
     "output_type": "stream",
     "text": [
      "`low_cpu_mem_usage` was None, now default to True since model is quantized.\n"
     ]
    }
   ],
   "source": [
    "model = AutoModelForCausalLM.from_pretrained('meta-llama/Llama-3.2-1B-Instruct',quantization_config=BitsAndBytesConfig(load_in_4bit=True))\n",
    "tokenizer = AutoTokenizer.from_pretrained('meta-llama/Llama-3.2-1B-Instruct')"
   ]
  },
  {
   "cell_type": "code",
   "execution_count": 49,
   "metadata": {},
   "outputs": [
    {
     "data": {
      "text/plain": [
       "Dataset({\n",
       "    features: ['section_id', 'query_id', 'passage', 'question', 'answers_spans'],\n",
       "    num_rows: 9535\n",
       "})"
      ]
     },
     "execution_count": 49,
     "metadata": {},
     "output_type": "execute_result"
    }
   ],
   "source": [
    "drop_benchmark = load_dataset('ucinlp/drop',split = 'validation')\n",
    "drop_benchmark"
   ]
  },
  {
   "cell_type": "markdown",
   "metadata": {},
   "source": [
    "# Analyse Drop Benchmark Results"
   ]
  },
  {
   "cell_type": "code",
   "execution_count": 12,
   "metadata": {},
   "outputs": [],
   "source": [
    "# drop_input = drop_benchmark[0]['passage']\n",
    "# drop_question = drop_benchmark[0]['question']\n",
    "# drop_answer = drop_benchmark[0]['answers_spans']['spans'][0]\n",
    "# drop_input, drop_question, drop_answer\n",
    "\n"
   ]
  },
  {
   "cell_type": "code",
   "execution_count": 38,
   "metadata": {},
   "outputs": [
    {
     "name": "stderr",
     "output_type": "stream",
     "text": [
      "/home/abhi/.local/lib/python3.12/site-packages/transformers/generation/configuration_utils.py:628: UserWarning: `do_sample` is set to `False`. However, `temperature` is set to `0.6` -- this flag is only used in sample-based generation modes. You should set `do_sample=True` or unset `temperature`.\n",
      "  warnings.warn(\n",
      "/home/abhi/.local/lib/python3.12/site-packages/transformers/generation/configuration_utils.py:633: UserWarning: `do_sample` is set to `False`. However, `top_p` is set to `0.9` -- this flag is only used in sample-based generation modes. You should set `do_sample=True` or unset `top_p`.\n",
      "  warnings.warn(\n",
      "Setting `pad_token_id` to `eos_token_id`:128001 for open-end generation.\n"
     ]
    }
   ],
   "source": [
    "tokenizer.pad_token_id = tokenizer.eos_token_id\n",
    "drop_input = ['The RDAF squadron in 1962 comprised Alouette helicopters.', 'Hoping to get a good score in the exam.','Example sentence 3']\n",
    "tokenized_input = tokenizer(drop_input, return_tensors='pt',padding = True, truncation = True).to(model.device)\n",
    "model.eval()\n",
    "with torch.no_grad():\n",
    "    outputs = model.generate(**tokenized_input, max_new_tokens=1,do_sample = False,return_dict_in_generate=True,output_scores=True)"
   ]
  },
  {
   "cell_type": "code",
   "execution_count": 46,
   "metadata": {},
   "outputs": [
    {
     "data": {
      "text/plain": [
       "torch.Size([3, 128256])"
      ]
     },
     "execution_count": 46,
     "metadata": {},
     "output_type": "execute_result"
    }
   ],
   "source": [
    "F.softmax(torch.stack(outputs['scores']).swapaxes(0,1)[:,0,:],dim = 1).shape\n"
   ]
  },
  {
   "cell_type": "code",
   "execution_count": 31,
   "metadata": {},
   "outputs": [
    {
     "data": {
      "text/plain": [
       "[' The squadron was formed in 1962']"
      ]
     },
     "execution_count": 31,
     "metadata": {},
     "output_type": "execute_result"
    }
   ],
   "source": [
    "tokenizer.batch_decode(outputs['sequences'][:,tokenized_input['input_ids'].shape[1]:], skip_special_tokens=False, clean_up_tokenization_spaces=True)\n"
   ]
  },
  {
   "cell_type": "code",
   "execution_count": 27,
   "metadata": {},
   "outputs": [
    {
     "data": {
      "text/plain": [
       "'2'"
      ]
     },
     "execution_count": 27,
     "metadata": {},
     "output_type": "execute_result"
    }
   ],
   "source": [
    "outputs['sequences'][:,tokenized_input['input_ids'].shape[1]:]\n",
    "tokenizer.convert_ids_to_tokens(17)"
   ]
  },
  {
   "cell_type": "code",
   "execution_count": 30,
   "metadata": {},
   "outputs": [
    {
     "data": {
      "text/plain": [
       "' The squadron was formed in 1962'"
      ]
     },
     "execution_count": 30,
     "metadata": {},
     "output_type": "execute_result"
    }
   ],
   "source": [
    "original_output_tokens = outputs['sequences'][:,tokenized_input['input_ids'].shape[1]:][0]\n",
    "original_output_tokens \n",
    "tokenizer.decode(original_output_tokens)"
   ]
  },
  {
   "cell_type": "code",
   "execution_count": 2,
   "metadata": {},
   "outputs": [],
   "source": [
    "hotpot_dataset = read_data(data_path = '../data/', name = 'distractor', dataset_name = 'hotpot_qa', split = 'validation')\n",
    "ex_prompt = preprocess_hotpot(hotpot_dataset, only_yes_no = True)\n",
    "\n",
    "#preprocess_hotpot(hotpot_dataset, only_yes_no = True)\n",
    "tydiqa_dataset = read_data(data_path = '../data/', dataset_name = 'tydiqa', name = 'primary_task', split = 'validation')\n",
    "tydiqa_prompt = preprocess_tydiqa(tydiqa_dataset, only_yes_no = True)"
   ]
  },
  {
   "cell_type": "code",
   "execution_count": 3,
   "metadata": {},
   "outputs": [
    {
     "data": {
      "text/plain": [
       "Dataset({\n",
       "    features: ['section_id', 'query_id', 'passage', 'question', 'answers_spans'],\n",
       "    num_rows: 9535\n",
       "})"
      ]
     },
     "execution_count": 3,
     "metadata": {},
     "output_type": "execute_result"
    }
   ],
   "source": [
    "drop_benchmark = read_data(data_path = '../data/', dataset_name=\"ucinlp/drop\", split = 'validation')\n",
    "drop_benchmark"
   ]
  },
  {
   "cell_type": "code",
   "execution_count": 47,
   "metadata": {},
   "outputs": [
    {
     "data": {
      "text/plain": [
       "['', 'z', 'z', 'z']"
      ]
     },
     "execution_count": 47,
     "metadata": {},
     "output_type": "execute_result"
    }
   ],
   "source": [
    "a = ['z','z','z']\n",
    "b = ['']\n",
    "b + a\n"
   ]
  },
  {
   "cell_type": "code",
   "execution_count": 4,
   "metadata": {},
   "outputs": [
    {
     "name": "stderr",
     "output_type": "stream",
     "text": [
      "The `load_in_4bit` and `load_in_8bit` arguments are deprecated and will be removed in the future versions. Please, pass a `BitsAndBytesConfig` object in `quantization_config` argument instead.\n"
     ]
    }
   ],
   "source": [
    "torch.cuda.empty_cache()\n",
    "model, tokenizer = AutoModelForCausalLM.from_pretrained('meta-llama/Llama-3.2-1B-Instruct', device_map = 'auto',load_in_8bit = True,attn_implementation = 'flash_attention_2'), AutoTokenizer.from_pretrained('meta-llama/Llama-3.2-1B-Instruct')\n"
   ]
  },
  {
   "cell_type": "code",
   "execution_count": 10,
   "metadata": {},
   "outputs": [
    {
     "name": "stderr",
     "output_type": "stream",
     "text": [
      "Setting `pad_token_id` to `eos_token_id`:None for open-end generation.\n"
     ]
    },
    {
     "name": "stdout",
     "output_type": "stream",
     "text": [
      ", the gender distribution of the population was 50.2% male and 49.8% female.  The age distribution, , in Cunter is; 18 people or 9.1% of the population are between 0 and 9 years old.  7 people or 3.5% are 10 to 14, and 16 people or 8.1% are 15 to 19.  Of the adult population, 29 people or 14.6% of the population are between 20 and 29 years old.  28 people or 14.1% are 30 to 39, 36 people or 18.2% are 40 to 49, and 31 people or 15.7% are 50 to 59.  The senior population distribution is 13 people or 6.6% of the population are between 60 and 69 years old, 15 people or 7.6% are 70 to 79, there are 4 people or 2.0% who are 80 to 89, and there are 1 people or 0.5% who are 90 to 99.\n",
      "context:, the gender distribution of the population was 50.2% male and 49.8% female.  The age distribution,, in Cunter is; 18 people or 9.1% of the population are between 0 and 9 years old.  7 people or 3.5% are 10 to 14, and 16 people or 8.1% are 15 to 19.  Of the adult population, 29 people or 14.6% of the population are between 20 and 29 years old.  28 people or 14.1% are 30 to 39, 36 people or 18.2% are 40 to 49, and 31 people or 15.7% are 50 to 59.  The senior population distribution is 13 people or 6.6% of the population are between 60 and 69 years old, 15 people or 7.6% are 70 to 79, there are 4 people or 2.0% who are 80 to 89, and there are 1 people or 0.5% who are 90 to 99.\n",
      "question: What is that oldest age range?. Provide shortest answer possible, long answers are penalized heavily. No explaination is required.\n",
      "Answer: 90 to 99 years old.\n",
      "{'spans': ['90 to 99', '90 to 99'], 'types': ['span', 'span']}\n"
     ]
    }
   ],
   "source": [
    "row_id =  8088\n",
    "context = drop_benchmark[row_id]['passage']\n",
    "print(context)\n",
    "question = f'{drop_benchmark[row_id][\"question\"]}. Provide shortest answer possible, long answers are penalized heavily. No explaination is required.\\n'\n",
    "prompt = f'context: {context}\\nquestion: {question}'\n",
    "input_ids = tokenizer(prompt, return_tensors='pt',truncation = True).to(model.device)\n",
    "model.eval()\n",
    "with torch.no_grad():\n",
    "    outputs = model.generate(**input_ids, max_new_tokens=16,do_sample = False)\n",
    "print(tokenizer.decode(outputs[0], skip_special_tokens=True))\n",
    "print(drop_benchmark[row_id]['answers_spans'])\n",
    "torch.cuda.empty_cache()\n"
   ]
  },
  {
   "cell_type": "code",
   "execution_count": null,
   "metadata": {},
   "outputs": [],
   "source": [
    "relaxed_f1('The RDAF squadron in 1962 comprised Alouette helicopters.','Alouette helicopters')"
   ]
  },
  {
   "cell_type": "code",
   "execution_count": 9,
   "metadata": {},
   "outputs": [
    {
     "data": {
      "text/plain": [
       "{'section_id': 'nfl_1184',\n",
       " 'query_id': '7dfd2b64-f39e-4bb4-aeb0-1900adda6018',\n",
       " 'passage': \" Hoping to rebound from their loss to the Patriots, the Raiders stayed at home for a Week 16 duel with the Houston Texans.  Oakland would get the early lead in the first quarter as quarterback JaMarcus Russell completed a 20-yard touchdown pass to rookie wide receiver Chaz Schilens.  The Texans would respond with fullback Vonta Leach getting a 1-yard touchdown run, yet the Raiders would answer with kicker Sebastian Janikowski getting a 33-yard and a 30-yard field goal.  Houston would tie the game in the second quarter with kicker Kris Brown getting a 53-yard and a 24-yard field goal. Oakland would take the lead in the third quarter with wide receiver Johnnie Lee Higgins catching a 29-yard touchdown pass from Russell, followed up by an 80-yard punt return for a touchdown.  The Texans tried to rally in the fourth quarter as Brown nailed a 40-yard field goal, yet the Raiders' defense would shut down any possible attempt.\",\n",
       " 'question': 'How many field goals did both teams kick in the first half?',\n",
       " 'answers_spans': {'spans': ['2', '2', '2', '2', '2'],\n",
       "  'types': ['number', 'number', 'number', 'number', 'number']}}"
      ]
     },
     "execution_count": 9,
     "metadata": {},
     "output_type": "execute_result"
    }
   ],
   "source": [
    "drop_benchmark[row_id]"
   ]
  },
  {
   "cell_type": "code",
   "execution_count": 33,
   "metadata": {},
   "outputs": [
    {
     "data": {
      "text/plain": [
       "{'exact_match': 1.0}"
      ]
     },
     "execution_count": 33,
     "metadata": {},
     "output_type": "execute_result"
    }
   ],
   "source": [
    "\n",
    "theoretically_correct_answer = [{'id': drop_benchmark[row_id]['query_id'], 'answers': {'text':drop_benchmark[row_id]['answers_spans']['spans']}}]\n",
    "model_answer = {'id': drop_benchmark[row_id]['query_id'], 'prediction_text': 'Both teams kicked 2 field goals in the first half'}\n",
    "metric = evaluate.load('exact_match')\n",
    "metric.compute(references = ['Alouette helicopters'], predictions = ['Alouette helicopters'], ignore_case = True, ignore_punctuation = True)\n"
   ]
  },
  {
   "cell_type": "code",
   "execution_count": 31,
   "metadata": {},
   "outputs": [
    {
     "name": "stdout",
     "output_type": "stream",
     "text": [
      "0.5\n"
     ]
    }
   ],
   "source": [
    "exact_match = evaluate.load(\"exact_match\")\n",
    "refs = [\"the cat\", \"theater\", \"YELLING\", \"agent007\"]\n",
    "preds = [\"cat?\", \"theater\", \"yelling\", \"agent\"]\n",
    "results = exact_match.compute(references=refs, predictions=preds, regexes_to_ignore=[\"the \", \"yell\"], ignore_case=True, ignore_punctuation=True)\n",
    "print(round(results[\"exact_match\"], 2))"
   ]
  },
  {
   "cell_type": "code",
   "execution_count": 12,
   "metadata": {},
   "outputs": [
    {
     "data": {
      "text/plain": [
       "{'spans': ['2', '2', '2', '2', '2'],\n",
       " 'types': ['number', 'number', 'number', 'number', 'number']}"
      ]
     },
     "execution_count": 12,
     "metadata": {},
     "output_type": "execute_result"
    }
   ],
   "source": [
    "drop_benchmark[3]['answers_spans']"
   ]
  },
  {
   "cell_type": "code",
   "execution_count": 57,
   "metadata": {},
   "outputs": [
    {
     "data": {
      "text/plain": [
       "{'section_id': 'nfl_336',\n",
       " 'query_id': '88fc0951-1a7f-406f-ac93-14914a926f39',\n",
       " 'passage': \" The Chargers at home, donned their throwback jerseys and played a Week 9 fight against the Cleveland Browns.  In the first quarter, both sides would limit each other to a field goal.  Chargers kicker Nate Kaeding would complete a 29-yard field goal, while Browns kicker Phil Dawson completed a 37-yard field goal.  In the second quarter, Dawson would help Cleveland take the lead on a 20-yard field goal.  San Diego a defensive touchdown as back as LB Marques Harris recovered a fumble in the Browns end zone.  The Brown's would retake the lead with Dawson nailing a 42-yard and a 30-yard field goal.  In the third quarter, the Chargers RB LaDainian Tomlinson got a 41-yard TD run for the only score of the period. In the fourth quarter, Dawson helped the Browns by converting a 36-yard field goal,  San Diego continued to add to their total with Tomlinson getting a 7-yard TD run.  Dawson would get one more field goal (from 35 yards out), the Chargers continued to score touchdowns as Tomlinson ran one in from 8-yard out. QB Philip Rivers completed a 2-point conversion pass to WR Vincent Jackson.  Afterwards, Cleveland would get its only touchdown of the game, as QB Charlie Frye hooked up with WR Braylon Edwards on a 4-yard pass. In the end, San Diego came out on top and improved to 6-2.\",\n",
       " 'question': 'Which team kicked the longer field goal in the first quarter?',\n",
       " 'answers_spans': {'spans': ['Browns',\n",
       "   'Browns kicker Phil Dawson',\n",
       "   'Phil Dawson'],\n",
       "  'types': ['span', 'span', 'span']}}"
      ]
     },
     "execution_count": 57,
     "metadata": {},
     "output_type": "execute_result"
    }
   ],
   "source": [
    "drop_benchmark[4567]['answer_spans']"
   ]
  },
  {
   "cell_type": "code",
   "execution_count": 35,
   "metadata": {},
   "outputs": [
    {
     "name": "stderr",
     "output_type": "stream",
     "text": [
      "Downloading data:  71%|███████▏  | 205/287 [07:35<03:02,  2.22s/files]\n"
     ]
    },
    {
     "ename": "KeyboardInterrupt",
     "evalue": "",
     "output_type": "error",
     "traceback": [
      "\u001b[0;31m---------------------------------------------------------------------------\u001b[0m",
      "\u001b[0;31mKeyError\u001b[0m                                  Traceback (most recent call last)",
      "File \u001b[0;32m~/projects/spectral-explain/experiments/context_citer_data_utils.py:26\u001b[0m, in \u001b[0;36mread_data\u001b[0;34m(data_path, dataset_name, split, **kwargs)\u001b[0m\n\u001b[1;32m     25\u001b[0m dataset \u001b[38;5;241m=\u001b[39m load_from_disk(\u001b[38;5;124mf\u001b[39m\u001b[38;5;124m\"\u001b[39m\u001b[38;5;132;01m{\u001b[39;00mdata_path\u001b[38;5;132;01m}\u001b[39;00m\u001b[38;5;124m/\u001b[39m\u001b[38;5;132;01m{\u001b[39;00mdataset_name\u001b[38;5;132;01m}\u001b[39;00m\u001b[38;5;124m.hf\u001b[39m\u001b[38;5;124m\"\u001b[39m)\n\u001b[0;32m---> 26\u001b[0m dataset \u001b[38;5;241m=\u001b[39m \u001b[43mdataset\u001b[49m\u001b[43m[\u001b[49m\u001b[43msplit\u001b[49m\u001b[43m]\u001b[49m\n\u001b[1;32m     27\u001b[0m \u001b[38;5;28;01mreturn\u001b[39;00m dataset\n",
      "File \u001b[0;32m~/projects/spectral-explain/spec_explain/lib/python3.12/site-packages/datasets/dataset_dict.py:72\u001b[0m, in \u001b[0;36mDatasetDict.__getitem__\u001b[0;34m(self, k)\u001b[0m\n\u001b[1;32m     71\u001b[0m \u001b[38;5;28;01mif\u001b[39;00m \u001b[38;5;28misinstance\u001b[39m(k, (\u001b[38;5;28mstr\u001b[39m, NamedSplit)) \u001b[38;5;129;01mor\u001b[39;00m \u001b[38;5;28mlen\u001b[39m(\u001b[38;5;28mself\u001b[39m) \u001b[38;5;241m==\u001b[39m \u001b[38;5;241m0\u001b[39m:\n\u001b[0;32m---> 72\u001b[0m     \u001b[38;5;28;01mreturn\u001b[39;00m \u001b[38;5;28;43msuper\u001b[39;49m\u001b[43m(\u001b[49m\u001b[43m)\u001b[49m\u001b[38;5;241;43m.\u001b[39;49m\u001b[38;5;21;43m__getitem__\u001b[39;49m\u001b[43m(\u001b[49m\u001b[43mk\u001b[49m\u001b[43m)\u001b[49m\n\u001b[1;32m     73\u001b[0m \u001b[38;5;28;01melse\u001b[39;00m:\n",
      "\u001b[0;31mKeyError\u001b[0m: 'test'",
      "\nDuring handling of the above exception, another exception occurred:\n",
      "\u001b[0;31mKeyboardInterrupt\u001b[0m                         Traceback (most recent call last)",
      "Cell \u001b[0;32mIn[35], line 1\u001b[0m\n\u001b[0;32m----> 1\u001b[0m natural_questions \u001b[38;5;241m=\u001b[39m \u001b[43mread_data\u001b[49m\u001b[43m(\u001b[49m\u001b[43mdataset_name\u001b[49m\u001b[38;5;241;43m=\u001b[39;49m\u001b[38;5;124;43m\"\u001b[39;49m\u001b[38;5;124;43mgoogle-research-datasets/natural_questions\u001b[39;49m\u001b[38;5;124;43m\"\u001b[39;49m\u001b[43m,\u001b[49m\u001b[43m \u001b[49m\u001b[43mname\u001b[49m\u001b[43m \u001b[49m\u001b[38;5;241;43m=\u001b[39;49m\u001b[43m \u001b[49m\u001b[38;5;124;43m\"\u001b[39;49m\u001b[38;5;124;43mdefault\u001b[39;49m\u001b[38;5;124;43m\"\u001b[39;49m\u001b[43m)\u001b[49m\n\u001b[1;32m      2\u001b[0m natural_questions\n",
      "File \u001b[0;32m~/projects/spectral-explain/experiments/context_citer_data_utils.py:29\u001b[0m, in \u001b[0;36mread_data\u001b[0;34m(data_path, dataset_name, split, **kwargs)\u001b[0m\n\u001b[1;32m     27\u001b[0m     \u001b[38;5;28;01mreturn\u001b[39;00m dataset\n\u001b[1;32m     28\u001b[0m \u001b[38;5;28;01mexcept\u001b[39;00m:\n\u001b[0;32m---> 29\u001b[0m     dataset \u001b[38;5;241m=\u001b[39m \u001b[43mload_dataset\u001b[49m\u001b[43m(\u001b[49m\u001b[43mdataset_name\u001b[49m\u001b[43m,\u001b[49m\u001b[43m \u001b[49m\u001b[43mtrust_remote_code\u001b[49m\u001b[38;5;241;43m=\u001b[39;49m\u001b[38;5;28;43;01mTrue\u001b[39;49;00m\u001b[43m,\u001b[49m\u001b[38;5;241;43m*\u001b[39;49m\u001b[38;5;241;43m*\u001b[39;49m\u001b[43mkwargs\u001b[49m\u001b[43m)\u001b[49m\n\u001b[1;32m     30\u001b[0m     dataset\u001b[38;5;241m.\u001b[39msave_to_disk(\u001b[38;5;124mf\u001b[39m\u001b[38;5;124m\"\u001b[39m\u001b[38;5;132;01m{\u001b[39;00mdata_path\u001b[38;5;132;01m}\u001b[39;00m\u001b[38;5;124m/\u001b[39m\u001b[38;5;132;01m{\u001b[39;00mdataset_name\u001b[38;5;132;01m}\u001b[39;00m\u001b[38;5;124m.hf\u001b[39m\u001b[38;5;124m\"\u001b[39m)\n\u001b[1;32m     31\u001b[0m     dataset \u001b[38;5;241m=\u001b[39m dataset[split]\n",
      "File \u001b[0;32m~/projects/spectral-explain/spec_explain/lib/python3.12/site-packages/datasets/load.py:2151\u001b[0m, in \u001b[0;36mload_dataset\u001b[0;34m(path, name, data_dir, data_files, split, cache_dir, features, download_config, download_mode, verification_mode, keep_in_memory, save_infos, revision, token, streaming, num_proc, storage_options, trust_remote_code, **config_kwargs)\u001b[0m\n\u001b[1;32m   2148\u001b[0m     \u001b[38;5;28;01mreturn\u001b[39;00m builder_instance\u001b[38;5;241m.\u001b[39mas_streaming_dataset(split\u001b[38;5;241m=\u001b[39msplit)\n\u001b[1;32m   2150\u001b[0m \u001b[38;5;66;03m# Download and prepare data\u001b[39;00m\n\u001b[0;32m-> 2151\u001b[0m \u001b[43mbuilder_instance\u001b[49m\u001b[38;5;241;43m.\u001b[39;49m\u001b[43mdownload_and_prepare\u001b[49m\u001b[43m(\u001b[49m\n\u001b[1;32m   2152\u001b[0m \u001b[43m    \u001b[49m\u001b[43mdownload_config\u001b[49m\u001b[38;5;241;43m=\u001b[39;49m\u001b[43mdownload_config\u001b[49m\u001b[43m,\u001b[49m\n\u001b[1;32m   2153\u001b[0m \u001b[43m    \u001b[49m\u001b[43mdownload_mode\u001b[49m\u001b[38;5;241;43m=\u001b[39;49m\u001b[43mdownload_mode\u001b[49m\u001b[43m,\u001b[49m\n\u001b[1;32m   2154\u001b[0m \u001b[43m    \u001b[49m\u001b[43mverification_mode\u001b[49m\u001b[38;5;241;43m=\u001b[39;49m\u001b[43mverification_mode\u001b[49m\u001b[43m,\u001b[49m\n\u001b[1;32m   2155\u001b[0m \u001b[43m    \u001b[49m\u001b[43mnum_proc\u001b[49m\u001b[38;5;241;43m=\u001b[39;49m\u001b[43mnum_proc\u001b[49m\u001b[43m,\u001b[49m\n\u001b[1;32m   2156\u001b[0m \u001b[43m    \u001b[49m\u001b[43mstorage_options\u001b[49m\u001b[38;5;241;43m=\u001b[39;49m\u001b[43mstorage_options\u001b[49m\u001b[43m,\u001b[49m\n\u001b[1;32m   2157\u001b[0m \u001b[43m\u001b[49m\u001b[43m)\u001b[49m\n\u001b[1;32m   2159\u001b[0m \u001b[38;5;66;03m# Build dataset for splits\u001b[39;00m\n\u001b[1;32m   2160\u001b[0m keep_in_memory \u001b[38;5;241m=\u001b[39m (\n\u001b[1;32m   2161\u001b[0m     keep_in_memory \u001b[38;5;28;01mif\u001b[39;00m keep_in_memory \u001b[38;5;129;01mis\u001b[39;00m \u001b[38;5;129;01mnot\u001b[39;00m \u001b[38;5;28;01mNone\u001b[39;00m \u001b[38;5;28;01melse\u001b[39;00m is_small_dataset(builder_instance\u001b[38;5;241m.\u001b[39minfo\u001b[38;5;241m.\u001b[39mdataset_size)\n\u001b[1;32m   2162\u001b[0m )\n",
      "File \u001b[0;32m~/projects/spectral-explain/spec_explain/lib/python3.12/site-packages/datasets/builder.py:924\u001b[0m, in \u001b[0;36mDatasetBuilder.download_and_prepare\u001b[0;34m(self, output_dir, download_config, download_mode, verification_mode, dl_manager, base_path, file_format, max_shard_size, num_proc, storage_options, **download_and_prepare_kwargs)\u001b[0m\n\u001b[1;32m    922\u001b[0m \u001b[38;5;28;01mif\u001b[39;00m num_proc \u001b[38;5;129;01mis\u001b[39;00m \u001b[38;5;129;01mnot\u001b[39;00m \u001b[38;5;28;01mNone\u001b[39;00m:\n\u001b[1;32m    923\u001b[0m     prepare_split_kwargs[\u001b[38;5;124m\"\u001b[39m\u001b[38;5;124mnum_proc\u001b[39m\u001b[38;5;124m\"\u001b[39m] \u001b[38;5;241m=\u001b[39m num_proc\n\u001b[0;32m--> 924\u001b[0m \u001b[38;5;28;43mself\u001b[39;49m\u001b[38;5;241;43m.\u001b[39;49m\u001b[43m_download_and_prepare\u001b[49m\u001b[43m(\u001b[49m\n\u001b[1;32m    925\u001b[0m \u001b[43m    \u001b[49m\u001b[43mdl_manager\u001b[49m\u001b[38;5;241;43m=\u001b[39;49m\u001b[43mdl_manager\u001b[49m\u001b[43m,\u001b[49m\n\u001b[1;32m    926\u001b[0m \u001b[43m    \u001b[49m\u001b[43mverification_mode\u001b[49m\u001b[38;5;241;43m=\u001b[39;49m\u001b[43mverification_mode\u001b[49m\u001b[43m,\u001b[49m\n\u001b[1;32m    927\u001b[0m \u001b[43m    \u001b[49m\u001b[38;5;241;43m*\u001b[39;49m\u001b[38;5;241;43m*\u001b[39;49m\u001b[43mprepare_split_kwargs\u001b[49m\u001b[43m,\u001b[49m\n\u001b[1;32m    928\u001b[0m \u001b[43m    \u001b[49m\u001b[38;5;241;43m*\u001b[39;49m\u001b[38;5;241;43m*\u001b[39;49m\u001b[43mdownload_and_prepare_kwargs\u001b[49m\u001b[43m,\u001b[49m\n\u001b[1;32m    929\u001b[0m \u001b[43m\u001b[49m\u001b[43m)\u001b[49m\n\u001b[1;32m    930\u001b[0m \u001b[38;5;66;03m# Sync info\u001b[39;00m\n\u001b[1;32m    931\u001b[0m \u001b[38;5;28mself\u001b[39m\u001b[38;5;241m.\u001b[39minfo\u001b[38;5;241m.\u001b[39mdataset_size \u001b[38;5;241m=\u001b[39m \u001b[38;5;28msum\u001b[39m(split\u001b[38;5;241m.\u001b[39mnum_bytes \u001b[38;5;28;01mfor\u001b[39;00m split \u001b[38;5;129;01min\u001b[39;00m \u001b[38;5;28mself\u001b[39m\u001b[38;5;241m.\u001b[39minfo\u001b[38;5;241m.\u001b[39msplits\u001b[38;5;241m.\u001b[39mvalues())\n",
      "File \u001b[0;32m~/projects/spectral-explain/spec_explain/lib/python3.12/site-packages/datasets/builder.py:978\u001b[0m, in \u001b[0;36mDatasetBuilder._download_and_prepare\u001b[0;34m(self, dl_manager, verification_mode, **prepare_split_kwargs)\u001b[0m\n\u001b[1;32m    976\u001b[0m split_dict \u001b[38;5;241m=\u001b[39m SplitDict(dataset_name\u001b[38;5;241m=\u001b[39m\u001b[38;5;28mself\u001b[39m\u001b[38;5;241m.\u001b[39mdataset_name)\n\u001b[1;32m    977\u001b[0m split_generators_kwargs \u001b[38;5;241m=\u001b[39m \u001b[38;5;28mself\u001b[39m\u001b[38;5;241m.\u001b[39m_make_split_generators_kwargs(prepare_split_kwargs)\n\u001b[0;32m--> 978\u001b[0m split_generators \u001b[38;5;241m=\u001b[39m \u001b[38;5;28;43mself\u001b[39;49m\u001b[38;5;241;43m.\u001b[39;49m\u001b[43m_split_generators\u001b[49m\u001b[43m(\u001b[49m\u001b[43mdl_manager\u001b[49m\u001b[43m,\u001b[49m\u001b[43m \u001b[49m\u001b[38;5;241;43m*\u001b[39;49m\u001b[38;5;241;43m*\u001b[39;49m\u001b[43msplit_generators_kwargs\u001b[49m\u001b[43m)\u001b[49m\n\u001b[1;32m    980\u001b[0m \u001b[38;5;66;03m# Checksums verification\u001b[39;00m\n\u001b[1;32m    981\u001b[0m \u001b[38;5;28;01mif\u001b[39;00m verification_mode \u001b[38;5;241m==\u001b[39m VerificationMode\u001b[38;5;241m.\u001b[39mALL_CHECKS \u001b[38;5;129;01mand\u001b[39;00m dl_manager\u001b[38;5;241m.\u001b[39mrecord_checksums:\n",
      "File \u001b[0;32m~/projects/spectral-explain/spec_explain/lib/python3.12/site-packages/datasets/packaged_modules/parquet/parquet.py:49\u001b[0m, in \u001b[0;36mParquet._split_generators\u001b[0;34m(self, dl_manager)\u001b[0m\n\u001b[1;32m     47\u001b[0m     \u001b[38;5;28;01mraise\u001b[39;00m \u001b[38;5;167;01mValueError\u001b[39;00m(\u001b[38;5;124mf\u001b[39m\u001b[38;5;124m\"\u001b[39m\u001b[38;5;124mAt least one data file must be specified, but got data_files=\u001b[39m\u001b[38;5;132;01m{\u001b[39;00m\u001b[38;5;28mself\u001b[39m\u001b[38;5;241m.\u001b[39mconfig\u001b[38;5;241m.\u001b[39mdata_files\u001b[38;5;132;01m}\u001b[39;00m\u001b[38;5;124m\"\u001b[39m)\n\u001b[1;32m     48\u001b[0m dl_manager\u001b[38;5;241m.\u001b[39mdownload_config\u001b[38;5;241m.\u001b[39mextract_on_the_fly \u001b[38;5;241m=\u001b[39m \u001b[38;5;28;01mTrue\u001b[39;00m\n\u001b[0;32m---> 49\u001b[0m data_files \u001b[38;5;241m=\u001b[39m \u001b[43mdl_manager\u001b[49m\u001b[38;5;241;43m.\u001b[39;49m\u001b[43mdownload_and_extract\u001b[49m\u001b[43m(\u001b[49m\u001b[38;5;28;43mself\u001b[39;49m\u001b[38;5;241;43m.\u001b[39;49m\u001b[43mconfig\u001b[49m\u001b[38;5;241;43m.\u001b[39;49m\u001b[43mdata_files\u001b[49m\u001b[43m)\u001b[49m\n\u001b[1;32m     50\u001b[0m splits \u001b[38;5;241m=\u001b[39m []\n\u001b[1;32m     51\u001b[0m \u001b[38;5;28;01mfor\u001b[39;00m split_name, files \u001b[38;5;129;01min\u001b[39;00m data_files\u001b[38;5;241m.\u001b[39mitems():\n",
      "File \u001b[0;32m~/projects/spectral-explain/spec_explain/lib/python3.12/site-packages/datasets/download/download_manager.py:326\u001b[0m, in \u001b[0;36mDownloadManager.download_and_extract\u001b[0;34m(self, url_or_urls)\u001b[0m\n\u001b[1;32m    310\u001b[0m \u001b[38;5;28;01mdef\u001b[39;00m \u001b[38;5;21mdownload_and_extract\u001b[39m(\u001b[38;5;28mself\u001b[39m, url_or_urls):\n\u001b[1;32m    311\u001b[0m \u001b[38;5;250m    \u001b[39m\u001b[38;5;124;03m\"\"\"Download and extract given `url_or_urls`.\u001b[39;00m\n\u001b[1;32m    312\u001b[0m \n\u001b[1;32m    313\u001b[0m \u001b[38;5;124;03m    Is roughly equivalent to:\u001b[39;00m\n\u001b[0;32m   (...)\u001b[0m\n\u001b[1;32m    324\u001b[0m \u001b[38;5;124;03m        extracted_path(s): `str`, extracted paths of given URL(s).\u001b[39;00m\n\u001b[1;32m    325\u001b[0m \u001b[38;5;124;03m    \"\"\"\u001b[39;00m\n\u001b[0;32m--> 326\u001b[0m     \u001b[38;5;28;01mreturn\u001b[39;00m \u001b[38;5;28mself\u001b[39m\u001b[38;5;241m.\u001b[39mextract(\u001b[38;5;28;43mself\u001b[39;49m\u001b[38;5;241;43m.\u001b[39;49m\u001b[43mdownload\u001b[49m\u001b[43m(\u001b[49m\u001b[43murl_or_urls\u001b[49m\u001b[43m)\u001b[49m)\n",
      "File \u001b[0;32m~/projects/spectral-explain/spec_explain/lib/python3.12/site-packages/datasets/download/download_manager.py:159\u001b[0m, in \u001b[0;36mDownloadManager.download\u001b[0;34m(self, url_or_urls)\u001b[0m\n\u001b[1;32m    157\u001b[0m start_time \u001b[38;5;241m=\u001b[39m datetime\u001b[38;5;241m.\u001b[39mnow()\n\u001b[1;32m    158\u001b[0m \u001b[38;5;28;01mwith\u001b[39;00m stack_multiprocessing_download_progress_bars():\n\u001b[0;32m--> 159\u001b[0m     downloaded_path_or_paths \u001b[38;5;241m=\u001b[39m \u001b[43mmap_nested\u001b[49m\u001b[43m(\u001b[49m\n\u001b[1;32m    160\u001b[0m \u001b[43m        \u001b[49m\u001b[43mdownload_func\u001b[49m\u001b[43m,\u001b[49m\n\u001b[1;32m    161\u001b[0m \u001b[43m        \u001b[49m\u001b[43murl_or_urls\u001b[49m\u001b[43m,\u001b[49m\n\u001b[1;32m    162\u001b[0m \u001b[43m        \u001b[49m\u001b[43mmap_tuple\u001b[49m\u001b[38;5;241;43m=\u001b[39;49m\u001b[38;5;28;43;01mTrue\u001b[39;49;00m\u001b[43m,\u001b[49m\n\u001b[1;32m    163\u001b[0m \u001b[43m        \u001b[49m\u001b[43mnum_proc\u001b[49m\u001b[38;5;241;43m=\u001b[39;49m\u001b[43mdownload_config\u001b[49m\u001b[38;5;241;43m.\u001b[39;49m\u001b[43mnum_proc\u001b[49m\u001b[43m,\u001b[49m\n\u001b[1;32m    164\u001b[0m \u001b[43m        \u001b[49m\u001b[43mdesc\u001b[49m\u001b[38;5;241;43m=\u001b[39;49m\u001b[38;5;124;43m\"\u001b[39;49m\u001b[38;5;124;43mDownloading data files\u001b[39;49m\u001b[38;5;124;43m\"\u001b[39;49m\u001b[43m,\u001b[49m\n\u001b[1;32m    165\u001b[0m \u001b[43m        \u001b[49m\u001b[43mbatched\u001b[49m\u001b[38;5;241;43m=\u001b[39;49m\u001b[38;5;28;43;01mTrue\u001b[39;49;00m\u001b[43m,\u001b[49m\n\u001b[1;32m    166\u001b[0m \u001b[43m        \u001b[49m\u001b[43mbatch_size\u001b[49m\u001b[38;5;241;43m=\u001b[39;49m\u001b[38;5;241;43m-\u001b[39;49m\u001b[38;5;241;43m1\u001b[39;49m\u001b[43m,\u001b[49m\n\u001b[1;32m    167\u001b[0m \u001b[43m    \u001b[49m\u001b[43m)\u001b[49m\n\u001b[1;32m    168\u001b[0m duration \u001b[38;5;241m=\u001b[39m datetime\u001b[38;5;241m.\u001b[39mnow() \u001b[38;5;241m-\u001b[39m start_time\n\u001b[1;32m    169\u001b[0m logger\u001b[38;5;241m.\u001b[39minfo(\u001b[38;5;124mf\u001b[39m\u001b[38;5;124m\"\u001b[39m\u001b[38;5;124mDownloading took \u001b[39m\u001b[38;5;132;01m{\u001b[39;00mduration\u001b[38;5;241m.\u001b[39mtotal_seconds()\u001b[38;5;250m \u001b[39m\u001b[38;5;241m/\u001b[39m\u001b[38;5;241m/\u001b[39m\u001b[38;5;250m \u001b[39m\u001b[38;5;241m60\u001b[39m\u001b[38;5;132;01m}\u001b[39;00m\u001b[38;5;124m min\u001b[39m\u001b[38;5;124m\"\u001b[39m)\n",
      "File \u001b[0;32m~/projects/spectral-explain/spec_explain/lib/python3.12/site-packages/datasets/utils/py_utils.py:495\u001b[0m, in \u001b[0;36mmap_nested\u001b[0;34m(function, data_struct, dict_only, map_list, map_tuple, map_numpy, num_proc, parallel_min_length, batched, batch_size, types, disable_tqdm, desc)\u001b[0m\n\u001b[1;32m    492\u001b[0m     num_proc \u001b[38;5;241m=\u001b[39m \u001b[38;5;241m1\u001b[39m\n\u001b[1;32m    493\u001b[0m \u001b[38;5;28;01mif\u001b[39;00m \u001b[38;5;28many\u001b[39m(\u001b[38;5;28misinstance\u001b[39m(v, types) \u001b[38;5;129;01mand\u001b[39;00m \u001b[38;5;28mlen\u001b[39m(v) \u001b[38;5;241m>\u001b[39m \u001b[38;5;28mlen\u001b[39m(iterable) \u001b[38;5;28;01mfor\u001b[39;00m v \u001b[38;5;129;01min\u001b[39;00m iterable):\n\u001b[1;32m    494\u001b[0m     mapped \u001b[38;5;241m=\u001b[39m [\n\u001b[0;32m--> 495\u001b[0m         \u001b[43mmap_nested\u001b[49m\u001b[43m(\u001b[49m\n\u001b[1;32m    496\u001b[0m \u001b[43m            \u001b[49m\u001b[43mfunction\u001b[49m\u001b[38;5;241;43m=\u001b[39;49m\u001b[43mfunction\u001b[49m\u001b[43m,\u001b[49m\n\u001b[1;32m    497\u001b[0m \u001b[43m            \u001b[49m\u001b[43mdata_struct\u001b[49m\u001b[38;5;241;43m=\u001b[39;49m\u001b[43mobj\u001b[49m\u001b[43m,\u001b[49m\n\u001b[1;32m    498\u001b[0m \u001b[43m            \u001b[49m\u001b[43mnum_proc\u001b[49m\u001b[38;5;241;43m=\u001b[39;49m\u001b[43mnum_proc\u001b[49m\u001b[43m,\u001b[49m\n\u001b[1;32m    499\u001b[0m \u001b[43m            \u001b[49m\u001b[43mparallel_min_length\u001b[49m\u001b[38;5;241;43m=\u001b[39;49m\u001b[43mparallel_min_length\u001b[49m\u001b[43m,\u001b[49m\n\u001b[1;32m    500\u001b[0m \u001b[43m            \u001b[49m\u001b[43mbatched\u001b[49m\u001b[38;5;241;43m=\u001b[39;49m\u001b[43mbatched\u001b[49m\u001b[43m,\u001b[49m\n\u001b[1;32m    501\u001b[0m \u001b[43m            \u001b[49m\u001b[43mbatch_size\u001b[49m\u001b[38;5;241;43m=\u001b[39;49m\u001b[43mbatch_size\u001b[49m\u001b[43m,\u001b[49m\n\u001b[1;32m    502\u001b[0m \u001b[43m            \u001b[49m\u001b[43mtypes\u001b[49m\u001b[38;5;241;43m=\u001b[39;49m\u001b[43mtypes\u001b[49m\u001b[43m,\u001b[49m\n\u001b[1;32m    503\u001b[0m \u001b[43m        \u001b[49m\u001b[43m)\u001b[49m\n\u001b[1;32m    504\u001b[0m         \u001b[38;5;28;01mfor\u001b[39;00m obj \u001b[38;5;129;01min\u001b[39;00m iterable\n\u001b[1;32m    505\u001b[0m     ]\n\u001b[1;32m    506\u001b[0m \u001b[38;5;28;01melif\u001b[39;00m num_proc \u001b[38;5;241m!=\u001b[39m \u001b[38;5;241m-\u001b[39m\u001b[38;5;241m1\u001b[39m \u001b[38;5;129;01mand\u001b[39;00m num_proc \u001b[38;5;241m<\u001b[39m\u001b[38;5;241m=\u001b[39m \u001b[38;5;241m1\u001b[39m \u001b[38;5;129;01mor\u001b[39;00m \u001b[38;5;28mlen\u001b[39m(iterable) \u001b[38;5;241m<\u001b[39m parallel_min_length:\n\u001b[1;32m    507\u001b[0m     \u001b[38;5;28;01mif\u001b[39;00m batched:\n",
      "File \u001b[0;32m~/projects/spectral-explain/spec_explain/lib/python3.12/site-packages/datasets/utils/py_utils.py:512\u001b[0m, in \u001b[0;36mmap_nested\u001b[0;34m(function, data_struct, dict_only, map_list, map_tuple, map_numpy, num_proc, parallel_min_length, batched, batch_size, types, disable_tqdm, desc)\u001b[0m\n\u001b[1;32m    509\u001b[0m         batch_size \u001b[38;5;241m=\u001b[39m \u001b[38;5;28mmax\u001b[39m(\u001b[38;5;28mlen\u001b[39m(iterable) \u001b[38;5;241m/\u001b[39m\u001b[38;5;241m/\u001b[39m num_proc \u001b[38;5;241m+\u001b[39m \u001b[38;5;28mint\u001b[39m(\u001b[38;5;28mlen\u001b[39m(iterable) \u001b[38;5;241m%\u001b[39m num_proc \u001b[38;5;241m>\u001b[39m \u001b[38;5;241m0\u001b[39m), \u001b[38;5;241m1\u001b[39m)\n\u001b[1;32m    510\u001b[0m     iterable \u001b[38;5;241m=\u001b[39m \u001b[38;5;28mlist\u001b[39m(iter_batched(iterable, batch_size))\n\u001b[1;32m    511\u001b[0m mapped \u001b[38;5;241m=\u001b[39m [\n\u001b[0;32m--> 512\u001b[0m     \u001b[43m_single_map_nested\u001b[49m\u001b[43m(\u001b[49m\u001b[43m(\u001b[49m\u001b[43mfunction\u001b[49m\u001b[43m,\u001b[49m\u001b[43m \u001b[49m\u001b[43mobj\u001b[49m\u001b[43m,\u001b[49m\u001b[43m \u001b[49m\u001b[43mbatched\u001b[49m\u001b[43m,\u001b[49m\u001b[43m \u001b[49m\u001b[43mbatch_size\u001b[49m\u001b[43m,\u001b[49m\u001b[43m \u001b[49m\u001b[43mtypes\u001b[49m\u001b[43m,\u001b[49m\u001b[43m \u001b[49m\u001b[38;5;28;43;01mNone\u001b[39;49;00m\u001b[43m,\u001b[49m\u001b[43m \u001b[49m\u001b[38;5;28;43;01mTrue\u001b[39;49;00m\u001b[43m,\u001b[49m\u001b[43m \u001b[49m\u001b[38;5;28;43;01mNone\u001b[39;49;00m\u001b[43m)\u001b[49m\u001b[43m)\u001b[49m\n\u001b[1;32m    513\u001b[0m     \u001b[38;5;28;01mfor\u001b[39;00m obj \u001b[38;5;129;01min\u001b[39;00m hf_tqdm(iterable, disable\u001b[38;5;241m=\u001b[39mdisable_tqdm, desc\u001b[38;5;241m=\u001b[39mdesc)\n\u001b[1;32m    514\u001b[0m ]\n\u001b[1;32m    515\u001b[0m \u001b[38;5;28;01mif\u001b[39;00m batched:\n\u001b[1;32m    516\u001b[0m     mapped \u001b[38;5;241m=\u001b[39m [mapped_item \u001b[38;5;28;01mfor\u001b[39;00m mapped_batch \u001b[38;5;129;01min\u001b[39;00m mapped \u001b[38;5;28;01mfor\u001b[39;00m mapped_item \u001b[38;5;129;01min\u001b[39;00m mapped_batch]\n",
      "File \u001b[0;32m~/projects/spectral-explain/spec_explain/lib/python3.12/site-packages/datasets/utils/py_utils.py:380\u001b[0m, in \u001b[0;36m_single_map_nested\u001b[0;34m(args)\u001b[0m\n\u001b[1;32m    373\u001b[0m         \u001b[38;5;28;01mreturn\u001b[39;00m function(data_struct)\n\u001b[1;32m    374\u001b[0m \u001b[38;5;28;01mif\u001b[39;00m (\n\u001b[1;32m    375\u001b[0m     batched\n\u001b[1;32m    376\u001b[0m     \u001b[38;5;129;01mand\u001b[39;00m \u001b[38;5;129;01mnot\u001b[39;00m \u001b[38;5;28misinstance\u001b[39m(data_struct, \u001b[38;5;28mdict\u001b[39m)\n\u001b[1;32m    377\u001b[0m     \u001b[38;5;129;01mand\u001b[39;00m \u001b[38;5;28misinstance\u001b[39m(data_struct, types)\n\u001b[1;32m    378\u001b[0m     \u001b[38;5;129;01mand\u001b[39;00m \u001b[38;5;28mall\u001b[39m(\u001b[38;5;129;01mnot\u001b[39;00m \u001b[38;5;28misinstance\u001b[39m(v, (\u001b[38;5;28mdict\u001b[39m, types)) \u001b[38;5;28;01mfor\u001b[39;00m v \u001b[38;5;129;01min\u001b[39;00m data_struct)\n\u001b[1;32m    379\u001b[0m ):\n\u001b[0;32m--> 380\u001b[0m     \u001b[38;5;28;01mreturn\u001b[39;00m [mapped_item \u001b[38;5;28;01mfor\u001b[39;00m batch \u001b[38;5;129;01min\u001b[39;00m iter_batched(data_struct, batch_size) \u001b[38;5;28;01mfor\u001b[39;00m mapped_item \u001b[38;5;129;01min\u001b[39;00m \u001b[43mfunction\u001b[49m\u001b[43m(\u001b[49m\u001b[43mbatch\u001b[49m\u001b[43m)\u001b[49m]\n\u001b[1;32m    382\u001b[0m \u001b[38;5;66;03m# Reduce logging to keep things readable in multiprocessing with tqdm\u001b[39;00m\n\u001b[1;32m    383\u001b[0m \u001b[38;5;28;01mif\u001b[39;00m rank \u001b[38;5;129;01mis\u001b[39;00m \u001b[38;5;129;01mnot\u001b[39;00m \u001b[38;5;28;01mNone\u001b[39;00m \u001b[38;5;129;01mand\u001b[39;00m logging\u001b[38;5;241m.\u001b[39mget_verbosity() \u001b[38;5;241m<\u001b[39m logging\u001b[38;5;241m.\u001b[39mWARNING:\n",
      "File \u001b[0;32m~/projects/spectral-explain/spec_explain/lib/python3.12/site-packages/datasets/download/download_manager.py:206\u001b[0m, in \u001b[0;36mDownloadManager._download_batched\u001b[0;34m(self, url_or_filenames, download_config)\u001b[0m\n\u001b[1;32m    201\u001b[0m         \u001b[38;5;28;01mpass\u001b[39;00m\n\u001b[1;32m    202\u001b[0m     max_workers \u001b[38;5;241m=\u001b[39m (\n\u001b[1;32m    203\u001b[0m         config\u001b[38;5;241m.\u001b[39mHF_DATASETS_MULTITHREADING_MAX_WORKERS \u001b[38;5;28;01mif\u001b[39;00m size \u001b[38;5;241m<\u001b[39m (\u001b[38;5;241m20\u001b[39m \u001b[38;5;241m<<\u001b[39m \u001b[38;5;241m20\u001b[39m) \u001b[38;5;28;01melse\u001b[39;00m \u001b[38;5;241m1\u001b[39m\n\u001b[1;32m    204\u001b[0m     )  \u001b[38;5;66;03m# enable multithreading if files are small\u001b[39;00m\n\u001b[0;32m--> 206\u001b[0m     \u001b[38;5;28;01mreturn\u001b[39;00m \u001b[43mthread_map\u001b[49m\u001b[43m(\u001b[49m\n\u001b[1;32m    207\u001b[0m \u001b[43m        \u001b[49m\u001b[43mdownload_func\u001b[49m\u001b[43m,\u001b[49m\n\u001b[1;32m    208\u001b[0m \u001b[43m        \u001b[49m\u001b[43murl_or_filenames\u001b[49m\u001b[43m,\u001b[49m\n\u001b[1;32m    209\u001b[0m \u001b[43m        \u001b[49m\u001b[43mdesc\u001b[49m\u001b[38;5;241;43m=\u001b[39;49m\u001b[43mdownload_config\u001b[49m\u001b[38;5;241;43m.\u001b[39;49m\u001b[43mdownload_desc\u001b[49m\u001b[43m \u001b[49m\u001b[38;5;129;43;01mor\u001b[39;49;00m\u001b[43m \u001b[49m\u001b[38;5;124;43m\"\u001b[39;49m\u001b[38;5;124;43mDownloading\u001b[39;49m\u001b[38;5;124;43m\"\u001b[39;49m\u001b[43m,\u001b[49m\n\u001b[1;32m    210\u001b[0m \u001b[43m        \u001b[49m\u001b[43munit\u001b[49m\u001b[38;5;241;43m=\u001b[39;49m\u001b[38;5;124;43m\"\u001b[39;49m\u001b[38;5;124;43mfiles\u001b[39;49m\u001b[38;5;124;43m\"\u001b[39;49m\u001b[43m,\u001b[49m\n\u001b[1;32m    211\u001b[0m \u001b[43m        \u001b[49m\u001b[43mposition\u001b[49m\u001b[38;5;241;43m=\u001b[39;49m\u001b[43mmultiprocessing\u001b[49m\u001b[38;5;241;43m.\u001b[39;49m\u001b[43mcurrent_process\u001b[49m\u001b[43m(\u001b[49m\u001b[43m)\u001b[49m\u001b[38;5;241;43m.\u001b[39;49m\u001b[43m_identity\u001b[49m\u001b[43m[\u001b[49m\u001b[38;5;241;43m-\u001b[39;49m\u001b[38;5;241;43m1\u001b[39;49m\u001b[43m]\u001b[49m\u001b[43m  \u001b[49m\u001b[38;5;66;43;03m# contains the ranks of subprocesses\u001b[39;49;00m\n\u001b[1;32m    212\u001b[0m \u001b[43m        \u001b[49m\u001b[38;5;28;43;01mif\u001b[39;49;00m\u001b[43m \u001b[49m\u001b[43mos\u001b[49m\u001b[38;5;241;43m.\u001b[39;49m\u001b[43menviron\u001b[49m\u001b[38;5;241;43m.\u001b[39;49m\u001b[43mget\u001b[49m\u001b[43m(\u001b[49m\u001b[38;5;124;43m\"\u001b[39;49m\u001b[38;5;124;43mHF_DATASETS_STACK_MULTIPROCESSING_DOWNLOAD_PROGRESS_BARS\u001b[39;49m\u001b[38;5;124;43m\"\u001b[39;49m\u001b[43m)\u001b[49m\u001b[43m \u001b[49m\u001b[38;5;241;43m==\u001b[39;49m\u001b[43m \u001b[49m\u001b[38;5;124;43m\"\u001b[39;49m\u001b[38;5;124;43m1\u001b[39;49m\u001b[38;5;124;43m\"\u001b[39;49m\n\u001b[1;32m    213\u001b[0m \u001b[43m        \u001b[49m\u001b[38;5;129;43;01mand\u001b[39;49;00m\u001b[43m \u001b[49m\u001b[43mmultiprocessing\u001b[49m\u001b[38;5;241;43m.\u001b[39;49m\u001b[43mcurrent_process\u001b[49m\u001b[43m(\u001b[49m\u001b[43m)\u001b[49m\u001b[38;5;241;43m.\u001b[39;49m\u001b[43m_identity\u001b[49m\n\u001b[1;32m    214\u001b[0m \u001b[43m        \u001b[49m\u001b[38;5;28;43;01melse\u001b[39;49;00m\u001b[43m \u001b[49m\u001b[38;5;28;43;01mNone\u001b[39;49;00m\u001b[43m,\u001b[49m\n\u001b[1;32m    215\u001b[0m \u001b[43m        \u001b[49m\u001b[43mmax_workers\u001b[49m\u001b[38;5;241;43m=\u001b[39;49m\u001b[43mmax_workers\u001b[49m\u001b[43m,\u001b[49m\n\u001b[1;32m    216\u001b[0m \u001b[43m        \u001b[49m\u001b[43mtqdm_class\u001b[49m\u001b[38;5;241;43m=\u001b[39;49m\u001b[43mtqdm\u001b[49m\u001b[43m,\u001b[49m\n\u001b[1;32m    217\u001b[0m \u001b[43m    \u001b[49m\u001b[43m)\u001b[49m\n\u001b[1;32m    218\u001b[0m \u001b[38;5;28;01melse\u001b[39;00m:\n\u001b[1;32m    219\u001b[0m     \u001b[38;5;28;01mreturn\u001b[39;00m [\n\u001b[1;32m    220\u001b[0m         \u001b[38;5;28mself\u001b[39m\u001b[38;5;241m.\u001b[39m_download_single(url_or_filename, download_config\u001b[38;5;241m=\u001b[39mdownload_config)\n\u001b[1;32m    221\u001b[0m         \u001b[38;5;28;01mfor\u001b[39;00m url_or_filename \u001b[38;5;129;01min\u001b[39;00m url_or_filenames\n\u001b[1;32m    222\u001b[0m     ]\n",
      "File \u001b[0;32m~/projects/spectral-explain/spec_explain/lib/python3.12/site-packages/tqdm/contrib/concurrent.py:69\u001b[0m, in \u001b[0;36mthread_map\u001b[0;34m(fn, *iterables, **tqdm_kwargs)\u001b[0m\n\u001b[1;32m     55\u001b[0m \u001b[38;5;250m\u001b[39m\u001b[38;5;124;03m\"\"\"\u001b[39;00m\n\u001b[1;32m     56\u001b[0m \u001b[38;5;124;03mEquivalent of `list(map(fn, *iterables))`\u001b[39;00m\n\u001b[1;32m     57\u001b[0m \u001b[38;5;124;03mdriven by `concurrent.futures.ThreadPoolExecutor`.\u001b[39;00m\n\u001b[0;32m   (...)\u001b[0m\n\u001b[1;32m     66\u001b[0m \u001b[38;5;124;03m    [default: max(32, cpu_count() + 4)].\u001b[39;00m\n\u001b[1;32m     67\u001b[0m \u001b[38;5;124;03m\"\"\"\u001b[39;00m\n\u001b[1;32m     68\u001b[0m \u001b[38;5;28;01mfrom\u001b[39;00m \u001b[38;5;21;01mconcurrent\u001b[39;00m\u001b[38;5;21;01m.\u001b[39;00m\u001b[38;5;21;01mfutures\u001b[39;00m \u001b[38;5;28;01mimport\u001b[39;00m ThreadPoolExecutor\n\u001b[0;32m---> 69\u001b[0m \u001b[38;5;28;01mreturn\u001b[39;00m \u001b[43m_executor_map\u001b[49m\u001b[43m(\u001b[49m\u001b[43mThreadPoolExecutor\u001b[49m\u001b[43m,\u001b[49m\u001b[43m \u001b[49m\u001b[43mfn\u001b[49m\u001b[43m,\u001b[49m\u001b[43m \u001b[49m\u001b[38;5;241;43m*\u001b[39;49m\u001b[43miterables\u001b[49m\u001b[43m,\u001b[49m\u001b[43m \u001b[49m\u001b[38;5;241;43m*\u001b[39;49m\u001b[38;5;241;43m*\u001b[39;49m\u001b[43mtqdm_kwargs\u001b[49m\u001b[43m)\u001b[49m\n",
      "File \u001b[0;32m~/projects/spectral-explain/spec_explain/lib/python3.12/site-packages/tqdm/contrib/concurrent.py:51\u001b[0m, in \u001b[0;36m_executor_map\u001b[0;34m(PoolExecutor, fn, *iterables, **tqdm_kwargs)\u001b[0m\n\u001b[1;32m     47\u001b[0m \u001b[38;5;28;01mwith\u001b[39;00m ensure_lock(tqdm_class, lock_name\u001b[38;5;241m=\u001b[39mlock_name) \u001b[38;5;28;01mas\u001b[39;00m lk:\n\u001b[1;32m     48\u001b[0m     \u001b[38;5;66;03m# share lock in case workers are already using `tqdm`\u001b[39;00m\n\u001b[1;32m     49\u001b[0m     \u001b[38;5;28;01mwith\u001b[39;00m PoolExecutor(max_workers\u001b[38;5;241m=\u001b[39mmax_workers, initializer\u001b[38;5;241m=\u001b[39mtqdm_class\u001b[38;5;241m.\u001b[39mset_lock,\n\u001b[1;32m     50\u001b[0m                       initargs\u001b[38;5;241m=\u001b[39m(lk,)) \u001b[38;5;28;01mas\u001b[39;00m ex:\n\u001b[0;32m---> 51\u001b[0m         \u001b[38;5;28;01mreturn\u001b[39;00m \u001b[38;5;28;43mlist\u001b[39;49m\u001b[43m(\u001b[49m\u001b[43mtqdm_class\u001b[49m\u001b[43m(\u001b[49m\u001b[43mex\u001b[49m\u001b[38;5;241;43m.\u001b[39;49m\u001b[43mmap\u001b[49m\u001b[43m(\u001b[49m\u001b[43mfn\u001b[49m\u001b[43m,\u001b[49m\u001b[43m \u001b[49m\u001b[38;5;241;43m*\u001b[39;49m\u001b[43miterables\u001b[49m\u001b[43m,\u001b[49m\u001b[43m \u001b[49m\u001b[43mchunksize\u001b[49m\u001b[38;5;241;43m=\u001b[39;49m\u001b[43mchunksize\u001b[49m\u001b[43m)\u001b[49m\u001b[43m,\u001b[49m\u001b[43m \u001b[49m\u001b[38;5;241;43m*\u001b[39;49m\u001b[38;5;241;43m*\u001b[39;49m\u001b[43mkwargs\u001b[49m\u001b[43m)\u001b[49m\u001b[43m)\u001b[49m\n",
      "File \u001b[0;32m~/projects/spectral-explain/spec_explain/lib/python3.12/site-packages/tqdm/std.py:1181\u001b[0m, in \u001b[0;36mtqdm.__iter__\u001b[0;34m(self)\u001b[0m\n\u001b[1;32m   1178\u001b[0m time \u001b[38;5;241m=\u001b[39m \u001b[38;5;28mself\u001b[39m\u001b[38;5;241m.\u001b[39m_time\n\u001b[1;32m   1180\u001b[0m \u001b[38;5;28;01mtry\u001b[39;00m:\n\u001b[0;32m-> 1181\u001b[0m \u001b[43m    \u001b[49m\u001b[38;5;28;43;01mfor\u001b[39;49;00m\u001b[43m \u001b[49m\u001b[43mobj\u001b[49m\u001b[43m \u001b[49m\u001b[38;5;129;43;01min\u001b[39;49;00m\u001b[43m \u001b[49m\u001b[43miterable\u001b[49m\u001b[43m:\u001b[49m\n\u001b[1;32m   1182\u001b[0m \u001b[43m        \u001b[49m\u001b[38;5;28;43;01myield\u001b[39;49;00m\u001b[43m \u001b[49m\u001b[43mobj\u001b[49m\n\u001b[1;32m   1183\u001b[0m \u001b[43m        \u001b[49m\u001b[38;5;66;43;03m# Update and possibly print the progressbar.\u001b[39;49;00m\n\u001b[1;32m   1184\u001b[0m \u001b[43m        \u001b[49m\u001b[38;5;66;43;03m# Note: does not call self.update(1) for speed optimisation.\u001b[39;49;00m\n",
      "File \u001b[0;32m/opt/miniconda/lib/python3.12/concurrent/futures/_base.py:619\u001b[0m, in \u001b[0;36mExecutor.map.<locals>.result_iterator\u001b[0;34m()\u001b[0m\n\u001b[1;32m    616\u001b[0m \u001b[38;5;28;01mwhile\u001b[39;00m fs:\n\u001b[1;32m    617\u001b[0m     \u001b[38;5;66;03m# Careful not to keep a reference to the popped future\u001b[39;00m\n\u001b[1;32m    618\u001b[0m     \u001b[38;5;28;01mif\u001b[39;00m timeout \u001b[38;5;129;01mis\u001b[39;00m \u001b[38;5;28;01mNone\u001b[39;00m:\n\u001b[0;32m--> 619\u001b[0m         \u001b[38;5;28;01myield\u001b[39;00m \u001b[43m_result_or_cancel\u001b[49m\u001b[43m(\u001b[49m\u001b[43mfs\u001b[49m\u001b[38;5;241;43m.\u001b[39;49m\u001b[43mpop\u001b[49m\u001b[43m(\u001b[49m\u001b[43m)\u001b[49m\u001b[43m)\u001b[49m\n\u001b[1;32m    620\u001b[0m     \u001b[38;5;28;01melse\u001b[39;00m:\n\u001b[1;32m    621\u001b[0m         \u001b[38;5;28;01myield\u001b[39;00m _result_or_cancel(fs\u001b[38;5;241m.\u001b[39mpop(), end_time \u001b[38;5;241m-\u001b[39m time\u001b[38;5;241m.\u001b[39mmonotonic())\n",
      "File \u001b[0;32m/opt/miniconda/lib/python3.12/concurrent/futures/_base.py:317\u001b[0m, in \u001b[0;36m_result_or_cancel\u001b[0;34m(***failed resolving arguments***)\u001b[0m\n\u001b[1;32m    315\u001b[0m \u001b[38;5;28;01mtry\u001b[39;00m:\n\u001b[1;32m    316\u001b[0m     \u001b[38;5;28;01mtry\u001b[39;00m:\n\u001b[0;32m--> 317\u001b[0m         \u001b[38;5;28;01mreturn\u001b[39;00m \u001b[43mfut\u001b[49m\u001b[38;5;241;43m.\u001b[39;49m\u001b[43mresult\u001b[49m\u001b[43m(\u001b[49m\u001b[43mtimeout\u001b[49m\u001b[43m)\u001b[49m\n\u001b[1;32m    318\u001b[0m     \u001b[38;5;28;01mfinally\u001b[39;00m:\n\u001b[1;32m    319\u001b[0m         fut\u001b[38;5;241m.\u001b[39mcancel()\n",
      "File \u001b[0;32m/opt/miniconda/lib/python3.12/concurrent/futures/_base.py:451\u001b[0m, in \u001b[0;36mFuture.result\u001b[0;34m(self, timeout)\u001b[0m\n\u001b[1;32m    448\u001b[0m \u001b[38;5;28;01melif\u001b[39;00m \u001b[38;5;28mself\u001b[39m\u001b[38;5;241m.\u001b[39m_state \u001b[38;5;241m==\u001b[39m FINISHED:\n\u001b[1;32m    449\u001b[0m     \u001b[38;5;28;01mreturn\u001b[39;00m \u001b[38;5;28mself\u001b[39m\u001b[38;5;241m.\u001b[39m__get_result()\n\u001b[0;32m--> 451\u001b[0m \u001b[38;5;28;43mself\u001b[39;49m\u001b[38;5;241;43m.\u001b[39;49m\u001b[43m_condition\u001b[49m\u001b[38;5;241;43m.\u001b[39;49m\u001b[43mwait\u001b[49m\u001b[43m(\u001b[49m\u001b[43mtimeout\u001b[49m\u001b[43m)\u001b[49m\n\u001b[1;32m    453\u001b[0m \u001b[38;5;28;01mif\u001b[39;00m \u001b[38;5;28mself\u001b[39m\u001b[38;5;241m.\u001b[39m_state \u001b[38;5;129;01min\u001b[39;00m [CANCELLED, CANCELLED_AND_NOTIFIED]:\n\u001b[1;32m    454\u001b[0m     \u001b[38;5;28;01mraise\u001b[39;00m CancelledError()\n",
      "File \u001b[0;32m/opt/miniconda/lib/python3.12/threading.py:355\u001b[0m, in \u001b[0;36mCondition.wait\u001b[0;34m(self, timeout)\u001b[0m\n\u001b[1;32m    353\u001b[0m \u001b[38;5;28;01mtry\u001b[39;00m:    \u001b[38;5;66;03m# restore state no matter what (e.g., KeyboardInterrupt)\u001b[39;00m\n\u001b[1;32m    354\u001b[0m     \u001b[38;5;28;01mif\u001b[39;00m timeout \u001b[38;5;129;01mis\u001b[39;00m \u001b[38;5;28;01mNone\u001b[39;00m:\n\u001b[0;32m--> 355\u001b[0m         \u001b[43mwaiter\u001b[49m\u001b[38;5;241;43m.\u001b[39;49m\u001b[43macquire\u001b[49m\u001b[43m(\u001b[49m\u001b[43m)\u001b[49m\n\u001b[1;32m    356\u001b[0m         gotit \u001b[38;5;241m=\u001b[39m \u001b[38;5;28;01mTrue\u001b[39;00m\n\u001b[1;32m    357\u001b[0m     \u001b[38;5;28;01melse\u001b[39;00m:\n",
      "\u001b[0;31mKeyboardInterrupt\u001b[0m: "
     ]
    }
   ],
   "source": [
    "natural_questions = read_data(dataset_name=\"google-research-datasets/natural_questions\", name = \"default\")\n",
    "natural_questions\n"
   ]
  },
  {
   "cell_type": "code",
   "execution_count": 27,
   "metadata": {},
   "outputs": [
    {
     "name": "stdout",
     "output_type": "stream",
     "text": [
      "[1, 357, 1024, 1069, 1417, 1947, 2245, 2719, 3440, 4124, 4595, 6072, 7332, 8187, 8878, 9227, 10731, 11192, 12399, 14042, 15461, 17121, 17598, 17893, 18451, 19822, 20597, 21752, 22933, 24120, 24843, 25722, 27153, 27500]\n",
      "[333, 1023, 1068, 1416, 1946, 2214, 2718, 3439, 4112, 4565, 6071, 7331, 8186, 8877, 9205, 10730, 11191, 12397, 14040, 15460, 17120, 17597, 17881, 18445, 19821, 20596, 21751, 22911, 24119, 24842, 25698, 27142, 27482, 27709]\n"
     ]
    }
   ],
   "source": [
    "tydiqa_dataset_eng = tydiqa_dataset.filter(lambda x: x['language'].startswith('eng'))\n",
    "print(tydiqa_dataset_eng[0]['passage_answer_candidates']['plaintext_start_byte'])\n",
    "print(tydiqa_dataset_eng[0]['passage_answer_candidates']['plaintext_end_byte'])\n"
   ]
  },
  {
   "cell_type": "code",
   "execution_count": 20,
   "metadata": {},
   "outputs": [
    {
     "name": "stdout",
     "output_type": "stream",
     "text": [
      "\n",
      "The zebra finch (Taeniopygia guttata)[2] is the most common estrildid finch of Central Australia and ranges over most of the continent, avoiding only the cool moist south and some areas of the tropical far north. It can also be found natively in Indonesia and East Timor. The bird has been introduced to Puerto Rico and Portugal.[1]\n",
      "Taxonomy and phylogeny\n",
      "The zebra finch was first collected in 1801 during Nicolas Baudin's expedition to Australia. It was described in 1817 by Louis Jean Pierre Vieillot in his Nouveau Dictionnaire d'Histoire Naturelle, where he gave it the scientific name Fringilla guttata. The Australian subspecies was then described in 1837 by John Gould as Amadina castanotis.[3] Its current genus, Taeniopygia, was described in 1862 by Ludwig Reichenbach.[4] It is placed in the tribe Poephilini,[5] along with the genus Poephila, which it was previously included in;[6] the split between Taeniopygia and Poephila is justified by 1987 study using protein electrophoresis and chromosomal banding.[7]\n",
      "There are two subspecies of the zebra finch:\n",
      "Taeniopygia guttata guttata, the Timor zebra finch, extends from Lombok in the Lesser Sunda Islands or Nusa Tenggara in Indonesia to Sermata, in addition to coastal areas around the continent of Australia.\n",
      "Taeniopygia guttata castanotis is found over the wide range of continental Australia; it is sometimes split as the Australian zebra finch.[8]\n",
      "\n",
      "\n",
      "\n",
      "The zebra finch likely evolved in Australia, with either northern or southeastern Australia postulated as two places where the genus arose. The present-day distribution of the subspecies T. g. guttata is likely due to a Pleistocene glaciation event where the sea level dropped between about 100 and 150 metres (330 and 490ft), putting the coasts of Timor and Australia closer. This allowed birds swept out to sea by cyclones to see mountains near the west coast of Timor, which prompted them to make landfall on the island.[9]\n",
      "The morphological differences between the subspecies include differences in size. T. g. guttata is smaller than T. g. castanotis. In addition, the T. g. guttata males do not have the fine barring found on the throat and upper breast and have smaller breast bands.[10]\n",
      "Habitat and distribution\n",
      "\n",
      "\n",
      "\n",
      "\n",
      "\n",
      "The zebra finch has the most extensive mainland distribution of the Australian estrilids, being found in about 75% of mainland Australia, as the subspecies Taeniopygia guttata castanotis. This subspecies is generally not found on the coasts, except for the arid western edge.[11] As the subspecies T. g. guttata, it is distributed from the islands Lombok and Sumbawa in the Lesser Sundas east to Luang and Sermata, and south to Sumba, Sawu, Dao, Roti, Semau, and Timor.[10]\n",
      "The zebra finch (or at the very least, the subspecies T. g. castanotis) is generally found in more arid areas.[8] The areas it chooses to occupy are close to water, and places where rain is concentrated after it falls.[12] However, this is likely more related to the abundance of vegetation than the abundance of water as a resource in itself.[13]. Within these areas, it is found in grasslands with scattered trees and shrubs, and in open or grassy woodlands.[8] It is also found in cultivated areas,[14] such as rice fields[10] It usually stays confined to the low coastal areas of the islands it inhabits, but it can move to elevations up to 2,300 metres (7,500ft) to exploit expanding cultivation and grasslands.[15]\n",
      "Although zebra finch breeding, for example, is initiated by rainfall,[16] Klaus Immelmann proposed that sustained heavy precipitation is detrimental to the zebra finch. This is supported by the observation that the nest does not shield the chicks or eggs from rain, and rainfall can sometimes result in clutches being abandoned. Furthermore, it is supported by Immelmann's finding that zebra finches left Wyndham after the first heavy rains in November 1959, but returned to breed in April. It is hypothesized that birds in parts of northern Australia migrate inland during the wet season from October to May, and return to the coastal regions during the dryer months.[17]\n",
      "Life cycle\n",
      "The life expectancy of a zebra finch is highly variable because of genetic and environmental factors. The zebra finch may reach up to five years in its natural environment. If they are kept caged, they normally live for 5 to 9 years but may live as long as 12 years,[18] with an exceptional case of 14.5 years reported for a caged specimen.[19] The greatest threats to zebra finch survival are predation by cats and loss of natural food.[20]\n",
      "Song and other vocalizations\n",
      "Zebra finches are loud and boisterous singers. Their calls can be a loud beep, meep, oi! or a-ha!. Their song is a few small beeps, leading up to a rhythmic song of varying complexity in males. Each male's song is different, although birds of the same bloodline will exhibit similarities, and all finches will overlay their own uniqueness onto a common rhythmic framework. Sons generally learn the song of their fathers with little variation. There is a critical sensitive period during which juvenile males learn their songs by imitating a mature, male tutor.[21] Subsong (early, poorly structured vocalizations) evolve into 'plastic song'. This plastic song is variable between renditions but begins to incorporate some recognizable elements of tutor songs.[21] A study conducted by Nottebohm et al., has shown that birds were able to successfully imitate their tutor’s song after relatively short exposure (40 playbacks of the motifs lasting 30 seconds total) over the duration of their sensitive learning period.[22] These birds eventually form a “template” of what their correct song should sound like. They rely on auditory feedback for both song learning and practice as juveniles and song maintenance as adults. Adult birds maintain their songs by correcting any deviations from their target song template. During adulthood, by around 90 days, the bird's song goes through a crystallization phase where their song template is stable and it no longer changes.[21]\n",
      "Male zebra finches begin to sing at puberty, while females lack a singing ability.[18] This is due to a developmental difference, where in the embryo, the male zebra finch produces testosterone, which is transformed into estradiol in the brain, which in turn leads to the development of the nervous system for a song system.[23] There are multiple areas of the brain involved in the production of song. When a bird is singing a learned song, the HVC projects to the robust nucleus of the archistriatum (RA), which itself projects to the hypoglossal motoneurons. These motoneurons control the muscles of the trachea and syrinx. When learning a new song, the HVC sends efferents to Area X in the lobus parolfactorius, which connects to the medial nucleus of the dorsolateral thalamus (DLM). This structure connects to the lateral magnocellular nucleus of the anterior neostriatum (LMAN), which projects to the RA, and continues like a normal learned song would. The function of the various areas involved in learning is still being investigated.[24] Area X is likely involved in the acquisition of a new song,[25] whereas the LMAN likely serves a key role in the plasticity necessary for learning.[24] Activation of song behavior later depends on androgens.[26]\n",
      "Because zebra finch males learn their songs from their surroundings, they are often used as avian model organisms to investigate the neural bases of learning, memory, and sensorimotor integration. For example, studies have investigated the role of FoxP2 in song learning and have found that in young finches both knockdown and overexpression of FoxP2 in the striatal song control nucleus, Area X, prevents accurate song learning and tutor imitation.[27][28] These studies also have implications for human speech. Individuals heterozygous for a point mutation in FOXP2 manifest a speech disorder.[29] Because of similar expression patterns between humans and songbirds, the zebra finch is used as a model to study FoxP2 expression and function.[30] The zebra finch genome was the second bird genome to be sequenced, in 2008, after that of the chicken.[31]\n",
      "The zebra finch uses an acoustic signal to communicate to embryos. It gives an incubation call to its eggs when the weather is hot—above 26°C (79°F)—and when the end of their incubation period is near. This call alters the growth and behaviour of the chicks, with chicks that were given an incubation call having less mass at the end of the nestling phase when they experienced higher nest temperatures. This contrasts with chicks that were not given an incubation call, which have a higher mass at the end of nestling after being exposed to high nest temperatures. Additionally, the chicks called to as an embryo are more likely to call after experiencing high nest temperatures.[32]\n",
      "Calling behaviour is used by zebra finches to negotiate parental care duties. In an experiment that delayed the return of the males to the nest, it was found that the resulting duets were shorter and calls were made more often.[33] This is the first species that vocal negotiation over parental care has ever been reported.[34]\n",
      "Behaviour\n",
      "Breeding\n",
      "\n",
      "\n",
      "The zebra finch generally breeds in loose colonies of up to 50 nests (although the number of individuals in a colony can be up to about 230 when breeding, and around 350 when not), but it may nest solitarily.[14] It often does not breed in the colony it was born; of the ringed birds that bred in the Danaher breeding colony () from 1985 to 1989, 24% of them were hatched from the colony or in the immediate vicinity. Additionally, natal dispersal is not sex-biased, unlike in most passerines. However, males between 36 and 50 days of age are more likely to disperse than females, although after this age, more females disperse than males.[35] Predation is likely a major factor in coloniality; nests in the main colony suffer less predation than nests further away. Pairs with preyed-upon nests are significantly more likely to nest in a bush more than 20 metres (66ft) away from their previous nesting plant.[36] Another large factor is where others nest: individuals are more likely to nest closer to conspecifics. In addition, reproductive success of conspecifics may play a role in where individuals nest; a study published in 2012 found that this finch was more likely to breed near nests with chicks older than six days (used as a proxy for reproductive success because they fledge about 87% of the time).[37] The zebra finch usually places its nest in a thorny shrub or tree, although it will nest in other structures, natural and artificial.[14] Often, there are multiple nests in one shrub.[8]\n",
      "The zebra finch builds both a roosting and breeding nest. The former is dome-shaped and has a large entrance on the side. This contrasts with the small entrance that conceals the inside of the latter nest. The breeding nest is also lined with soft material, such as wool and feathers.[38] Both sites are defended during the day; however, while a desperate bird is sometimes let in to the roosting nest during the night, the breeding nest is always guarded.[39]\n",
      "The zebra finch is an opportunistic breeder, initiating reproductive behaviour about one to three months after water becomes available. This is so that the young hatch when semi-ripe and ripe seeds (their primary food) become available. This finding is in line with the food quality hypothesis of zebra finch breeding, which states that dry grass seed is inadequate as a food source for nestlings, and that higher quality food (like ripening seeds) is needed to sustain them.[16] Thus, in captivity, it can breed year round when provided with sufficient water,[40] and it may attempt to breed several times per breeding season.[41] Zebra finches form socially monogamous pair bonds that remain stable for at least the duration of raising a clutch, but can last for up to several years. Extra-pair copulation, mating with individuals other than one's mate, occurs occasionally, with females usually soliciting it.[42] Extra-pair parentage is relatively rare in the wild, accounting for about 2% of young.[43][44] Attempts at forced extra-pair copulations by males occur frequently (about 43.8% of the time in one study); but, females can always successfully resist forced copulations if they so choose.[45]\n",
      "\n",
      "There are multiple hypotheses as to why extra-pair copulation might have evolved.[46] One theory is the good genes theory, which states that a female chooses extra-pair copulation if the extra-pair male grants its offspring direct benefits as a result of the male's alleles.[47] There are results that seem to support this; a 1992 study found a correlation between the song rate of a male and the attractiveness of it (measured on the basis of how much time the female spent with the male).[42] However, a 2007 study found that the responsiveness of a female (measured by behaviours indicating an intent to copulate or rejection) was not significantly related to the male's beak colour or its song rate. Song rate was instead hypothesized to draw female's attention to males. According to the author, this meant that the validity of the conclusions of the 1992 experiment needed to be reexamined.[45] Combined with the lack of influence that certain morphological traits have, the large control of females over copulation could indicate chase-away sexual selection,[48] where an exaggerated trait is evolved to counter increased resistance by the female to that feature.[49] An additional theory as to why extra-pair copulation might evolve is the between-sex genetic correlation theory. This theory is based on the lack of definite female benefits in extra-pair copulations, and the benefits that males have by being promiscuous. It states that extra-pair mating behaviour could arise from the same set of loci, and thus that strong selection for extra-pair mating behaviour would indirectly select for promiscuous behaviour in females.[46]\n",
      "\n",
      "There are several traits correlated with increased extra-pair copulations. Spending time with a mate is important; even more important than the attractiveness of a male (as judged by other females; attractiveness as judged by one female was positively correlated with the judgements of other females).[45] Symmetry of both plumage, like chest bands, and artificial features, like leg bands, are preferred by the female, as measured by how often the male is displayed to.[50] Because of the prevalence of extra-pair paternity, males have evolved various mechanisms to try and assure their paternity of a clutch. The male guards its mate by following it and stopping extra-pair copulation attempts. Sperm competition, where two or more males attempt to inseminate a single egg, also occurs. This is indicated by the male in a pair copulating with its mate more often the day before egg-starts. This is because the last male to copulate with a female before the next egg has a 70% to 80% chance of fertilizing the egg in question.[51] Another adaptation to sperm competition is the male ejaculating up to seven times more sperm in extra-pair copulations. The increased amount of sperm occurs because of the combination of ejaculate size being controlled by the time between previous copulations, and the fact that extra-pair copulations occur in the male after its period of within-pair copulation period is complete.[52]\n",
      "The number of eggs ranges from two to eight eggs per clutch, with five being the most common number.[53] These eggs are white or pale greyish blue in colour, and have a size of about 16 by 10 millimetres (0.63 by 0.39in). They are incubated for 14 to 16 days.[40] From about 5%[43] to 11% of offspring are the result of intraspecific brood parasitism, and in cases of parasitism, there is usually only one parasitic egg per nest. Additionally, parasitized nests often have one more egg than non-parasitized nests.[44] The female may follow a mixed strategy with relation to brood parasitism (being parasitic in addition to incubating its own clutch). From about 32% to 58% of females do this, and almost all (about 96%) lay parasitic eggs before incubating their clutch. Unpaired females sometimes lay parasitic eggs, but paired females do not rely solely on parasitism. A female that parasitized a nest in the past is more likely to do so in the future. Most of these eggs are unsuccessful; that is, the host abandons its otherwise empty nest after a parasitic egg is laid. Additionally, successful parasites are more likely to have future success from parasitism.[41] At least during late incubation, the female zebra finch can distinguish its own eggs on the basis of odour. This method of distinction arises from the visual similarity between parasitic and non-parasitic eggs, and the cost associated with raising an egg other than one's own.[54] When a bird is parasitized during a nesting attempt, it is less likely to be parasitized again during that season and, at the very least, during the next season (although this could be statistical noise).[41]\n",
      "Young zebra finches fledge about 17 to 18 days after hatching.[8] They feed themselves by around 35 days after hatching, although they are still socially dependent on their parents during this time; the young become socially dependent between 36 and 50 days after hatching. They also develop sexually dimorphic plumage during this period. Birds first attempt to form pair bonds and breed when they get close to 80 days in age. 80 days after hatching, most birds can breed.[35]\n",
      "Males and females are very similar in size, but are easily distinguished from one another after reaching maturity, as the males usually have bright orange cheek feathers, red beaks (as opposed to the orange beaks of females), and generally more striking black and white patterns.[20]\n",
      "Inbreeding\n",
      "Inbreeding causes early death (inbreeding depression) in the zebra finch, although it does not seem to affect fertility. Embryos have a much lower survival rate, with a study finding fertile eggs from sibling pairs had only about a 25% survival rate, compared to about 41% for unrelated pairs. This early difference in survival eventually becomes null after fledging, with about equal survival rates for offspring from both sibling and unrelated pairs.[55] Inbreeding depression mostly arises due to the expression of deleterious recessive alleles.[56]\n",
      "Diet\n",
      "The zebra finch is primarily eats grass seeds,[10] feeding mostly on semi-ripe and ripe seeds (although it also takes dry seeds[16]). The seeds are all dehusked,[57] and are found on stems and the ground, with most being taken, at least in the nominate subspecies, from the latter.[8] The grasses they are taken from are commonly between about 1 and 2.6 millimetres (0.039 and 0.102in) in length,[58] and larger and easily dehusked seeds are preferred.[59] It supplements its diet with insects[8] (mainly ants and termites) caught in short flights from lookout perches,[60] in addition to flowers of the genus Chenopodium.[58] The nestlings diet consists almost entirely of half-ripe[8] and ripe seeds, in addition to green plant material.[16] There are two main reasons why grass seeds are the dietary staple of the zebra finch: they are an abundant and relatively stable food source in this finch's preferred climate, and they are convenient to, for example, dehusk.[61] In some areas, such as the eastern arid zone in Australia, the seeds taken are consistent, whereas in others, like northern Victoria, there are annual changes in the diet, as different species become abundant.[60] The diet of this finch is generally low in species diversity; at Sandringham, Queensland 74% of the seeds eaten over a 15 month period were from Panicum decompositum, for example.[62]\n",
      "The zebra finch generally forages for seeds on the ground, taking them individually. But, it also eats seeds on the heads of standing grass. To do this, it either flies and pecks out seeds one at a time, or it perches on a nearby branch. It may also take the head to the ground by jumping up and seizing it with its bill or feet. In times of scarcity, the zebra finch can use its bill to dig into the ground to find buried seed.[63] These seeds are generally taken from patches which have fewer husks (when compared to the number of whole seeds) and are larger and more dense. A seed patch may be checked for many months after its supply of seed is depleted. Additionally, colonial roosting and nesting and foraging in flocks can help birds discover new patches of seed.[64]\n",
      "This bird commonly forages in flocks, although it sometimes forages in pairs or by itself.[10] In the breeding season, small or medium sized flocks are common, but in the non-breeding season, flocks of up to about 500 birds may be formed. It occasionally forms mixed-species flocks with other estrildids.[8] A feeding flock can be formed by individuals joining those already feeding, or by individuals landing on the ground together. Birds that arrive in this flock later are more likely to rely on scrounging, or taking food from competitors, whereas early arrivals are more likely to find food for themselves. Individuals that tend to explore more may be more dominant (measured by factors such as in what order individuals accessed a food source[65]), at least in a study that had relatively low food availability and a single source where food could be taken from. These individuals may also be less successful in a scramble competition, where there are multiple points where food can be found. The reason for the latter is hypothesized to be a result of a trade-off between faster speed in sampling an area and lower accuracy in detecting seeds.[66]\n",
      "Foraging activity in the zebra finch peaks in the first hour after sunrise and the second to last hour before sunset. In the first instance, the increase foraging is generally achieved through many short bouts of foraging, whereas the latter comes from a few long bouts.[67] When food becomes less available, like from August to September in northern Victoria, there is more feeding in the afternoon, less time spent on patches of food before leaving, and the distance between places where food is available is longer.[60] There are generally two groups of individuals based on foraging behaviour. In the first group, the probability of starting or stopping a feeding bout is constant through time, and short meals are more usual. Most birds in this group have longer bouts when the gap between the previous bout is longer. In the second group (which may consist of more birds), the longer a gap is, the more likely the individual is to start feeding again. Additionally, for most birds in this group, the same is true of the stopping of a bout; the longer it is, the more likely it is to be stopped. Feeding is also usually cyclical for the second group.[67]\n",
      "Drinking and bathing\n",
      "The zebra finch generally consumes about 24% to 28% of its body weight (or about 3 millilitres (0.11impfloz; 0.10USfloz)) in water per day at a temperature of 22 to 23°C (72 to 73°F). When at a higher temperature of 40°C (104°F), it may drink from 6 to 12 millilitres (0.21 to 0.42impfloz; 0.20 to 0.41USfloz) of water per day. The zebra finch also extracts water from seeds, and can get water from metabolizing its food. This metabolic water consumption can equal the amount of water that is lost when temperatures are below 23°C (73°F), although only for birds that are gradually dehydrated. Suddenly dehydrated birds must be in temperatures below 12°C (54°F) before the water lost is equal to that produced by the metabolism. This finch can survive periods of low water consumption; one study that gradually reduced the amount of water given over a period of a few months to just 0.5 to 1 millilitre (0.018 to 0.035impfloz; 0.017 to 0.034USfloz) per week at temperatures from 22 to 24°C (72 to 75°F) found that the zebra finch could survive these conditions. Additionally, more than half of birds survived in a total water deprivation experiment that ran 513 days long.[13]\n",
      "When water is close, the zebra finch drinks regularly during the day; if it is over about 5 kilometres (3.1mi) away, visits generally peak at midday. It prefers to drink from small puddles or other collections of water, especially those with gently sloped banks. Additionally, exposed drinking areas are preferred to more enclosed ones. It can also drink from dew on the tip of leaves. Due to the danger of predation, the zebra finch gathers in flocks in a bush or tree near a waterhole, only going to drink after the group is large enough. It then only drinks for a few seconds. After drinking, the zebra finch generally bathes for around a minute. Then, it dries off and re-oils its plumage in a warm sheltered spot.[13]\n",
      "The zebra finch only needs an average of 3.6 seconds to drink 1.5 millilitres (0.053impfloz; 0.051USfloz) of water. This short amount of time per bout is achieved by this finch's drinking method. It swallows the water it gets while its bill tip is still submerged, unlike most birds that bring their bill tip up to swallow. This unique action is accomplished by having the tongue scoop water into the pharynx. Then, the front of the larynx forces the water into the oesophagus, which, through peristalsis, takes the fluid to the crop. This method could have evolved because the adaptations necessary were already there because of the need to quickly dehusk and swallow seeds. It allows for water to be drunk faster and taken from more diverse sources, such as drops of dew[68][69] and cattle troughs; the latter requires the bird to drink upside down.[69]\n",
      "Temperature regulation\n",
      "The body temperature (as measured from the cloaca) of the zebra finch may vary from 38 to 44°C (100 to 111°F), rising with increasing air temperatures. Body temperatures over 45°C (113°F) can cause death within an hour. This finch first cools itself by covering its plumage with water, not moving, and holding its wings out to allow more thinly feathered regions to be exposed.[70] It also has a large capacity for evaporative cooling through the lungs and skin, with measurements of heat lost through evaporative cooling over heat produced being as high as 1.37 at 43.4°C (110.1°F).[71] This can occur as a result of panting, which starts to occur when body temperatures reach 42 to 43°C (108 to 109°F) (although this may start when the air temperature is as low as 32°C (90°F)). This can cause dehydration and may put birds into a lethargic state.[70] Additionally, the zebra finch's simple rete mirabile ophthalmicum (found in the head) makes it unable to cool the brain as effectively as other birds, like the common kestrel. This lacking ability to cool the brain, in combination with dehydration, may cause the mass die-offs found during prolonged periods of high temperatures.[72] For example, in January 1932, temperatures were between 47 and 52°C (117 and 126°F) for 16 days in northern Southern Australia, causing upwards of tens of thousands of this bird to die, with many being found in dams.[70]\n",
      "Predators\n",
      "Nest predators of the zebra finch include the tiger snake, brown snake, dragon lizard, pygmy mulga monitor, singing honeyeater, grey-crowned babbler, yellow-throated miner, little crow, Torresian crow, black rat, and house mouse. Canivorous marsupials are also nest predators, and barn owls take roosting adult zebra finches.[36]\n",
      "\n",
      "\n",
      "Bibliography\n",
      "\n",
      "\n",
      " Media related to Taeniopygia guttata at Wikimedia Commons\n",
      "\n",
      " on the Internet Bird Collection\n",
      "\n",
      "View the  in Ensembl\n",
      "View the  genome assembly in the UCSC Genome Browser.\n",
      " Housing and husbandry for zebra finches\n",
      "\n",
      "\n",
      "\n",
      "\n",
      "\n",
      "\n",
      "\n",
      "\n",
      "\n",
      "\n",
      "\n"
     ]
    }
   ],
   "source": [
    "print(tydiqa_dataset_eng[0]['document_plaintext'])"
   ]
  },
  {
   "cell_type": "code",
   "execution_count": 47,
   "metadata": {},
   "outputs": [
    {
     "data": {
      "text/plain": [
       "{'passage_answer_candidates': {'plaintext_start_byte': [6,\n",
       "   971,\n",
       "   1918,\n",
       "   2689,\n",
       "   2879,\n",
       "   3602,\n",
       "   4192,\n",
       "   5112,\n",
       "   5471,\n",
       "   6194,\n",
       "   6577,\n",
       "   7080,\n",
       "   8011,\n",
       "   9631,\n",
       "   10799,\n",
       "   11720,\n",
       "   12709,\n",
       "   13096,\n",
       "   13621,\n",
       "   14181,\n",
       "   14870,\n",
       "   15270,\n",
       "   15545,\n",
       "   15962,\n",
       "   16469,\n",
       "   16711,\n",
       "   16955,\n",
       "   17328,\n",
       "   17597,\n",
       "   18314,\n",
       "   18602,\n",
       "   19030,\n",
       "   19601,\n",
       "   20161,\n",
       "   20860,\n",
       "   21751,\n",
       "   22222,\n",
       "   22589,\n",
       "   23199,\n",
       "   23680,\n",
       "   24341,\n",
       "   24725,\n",
       "   25206,\n",
       "   25736,\n",
       "   26307,\n",
       "   26822,\n",
       "   26924,\n",
       "   27463],\n",
       "  'plaintext_end_byte': [970,\n",
       "   1899,\n",
       "   2677,\n",
       "   2841,\n",
       "   3601,\n",
       "   4191,\n",
       "   5110,\n",
       "   5433,\n",
       "   6193,\n",
       "   6576,\n",
       "   7069,\n",
       "   8009,\n",
       "   9630,\n",
       "   10797,\n",
       "   11719,\n",
       "   12707,\n",
       "   13095,\n",
       "   13620,\n",
       "   14171,\n",
       "   14850,\n",
       "   15269,\n",
       "   15544,\n",
       "   15961,\n",
       "   16468,\n",
       "   16690,\n",
       "   16927,\n",
       "   17308,\n",
       "   17573,\n",
       "   18313,\n",
       "   18587,\n",
       "   19009,\n",
       "   19600,\n",
       "   20135,\n",
       "   20859,\n",
       "   21726,\n",
       "   22221,\n",
       "   22588,\n",
       "   23198,\n",
       "   23679,\n",
       "   24340,\n",
       "   24724,\n",
       "   25205,\n",
       "   25735,\n",
       "   26280,\n",
       "   26812,\n",
       "   26899,\n",
       "   27460,\n",
       "   27720]},\n",
       " 'question_text': 'Was Spain part of the Allied Forces?',\n",
       " 'document_title': 'Spain during World War II',\n",
       " 'language': 'english',\n",
       " 'annotations': {'passage_answer_candidate_index': [1, 1, 4],\n",
       "  'minimal_answers_start_byte': [-1, -1, -1],\n",
       "  'minimal_answers_end_byte': [-1, -1, -1],\n",
       "  'yes_no_answer': ['NO', 'NO', 'NO']},\n",
       " 'document_plaintext': '\\n\\n\\n\\n\\n\\nPart of a series onFrancoism\\nOrganizations\\nFalange Española Tradicionalista y de las Juntas de Ofensiva Nacional Sindicalista\\nCouncil of the Realm\\nSpanish Labour Organization\\nCortes Españolas\\nSección Femenina\\nInstituto Nacional de Industria\\nTribunal de Orden Público\\nHistory\\nSpanish coup of July 1936\\nSpanish Civil War\\nWhite Terror\\nFrancoist concentration camps\\nSpain during World War II\\nBlue Division\\nStabilization Plan\\nSpanish miracle\\nAssassination of Luis Carrero Blanco\\nWomen in Francoist Spain\\nIdeology\\nSpanish nationalism\\nAuthoritarianism\\nTotalitarianism\\nAnti-communism\\nAnti-liberalism\\nAnti-semitism\\nMonarchism\\nNational Catholicism\\nNational syndicalism\\nMilitarism\\nCentralism\\nTraditionalism\\nPeople\\nFrancisco Franco\\nLuis Carrero Blanco\\nCarlos Arias Navarro\\nJuan Carlos I\\nEmilio Mola\\nJuan Yagüe\\nManuel Fraga\\nRelated topics\\nSociological Francoism\\nSecond Spanish Republic\\nSpanish transition to democracy\\nFalangism\\nFascism\\nMaquis\\nEuskadi Ta Askatasuna (ETA)vt\\nThe Spanish State under Francisco Franco did not officially join the Axis Powers during World War II, although Franco wrote to Hitler offering to join the war on 19 June 1940. Franco\\'s regime supplied Germany with the Blue Division to fight specifically on the Eastern Front against the Soviet Union, in recognition of the heavy assistance Spain had received from Germany and Italy in the Spanish Civil War. Despite ideological sympathy and allowing volunteers to serve on the Eastern Front, Franco later stationed field armies in the Pyrenees to deter a German occupation of the Iberian Peninsula. The Spanish policy frustrated Axis proposals that would have encouraged Franco to take British-controlled Gibraltar.[1] Franco considered joining the war and invading Gibraltar in 1940 after the Fall of France, but knew his armed forces would not be able to defend the Canary Islands and Spanish Morocco from a British attack.[2]\\nDomestic politics\\nDuring World War II, Spain was governed by an autocratic government,[3] but despite Franco\\'s own pro-Axis leanings and debt of gratitude to Benito Mussolini and Adolf Hitler, the government was divided between Germanophiles and Anglophiles. When the war started, Juan Beigbeder Atienza, an Anglophile, was the Minister of Foreign Affairs. The rapid German advance in Europe convinced Franco to replace him with Ramón Serrano Súñer, Franco\\'s brother-in-law and a strong Germanophile (18 October 1940). After the Allied victories in North Africa, Franco changed tack again, appointing Francisco Gómez-Jordana Sousa, sympathetic to the British, as minister in September 1942. Another influential anglophile was the Duke of Alba, Spain\\'s ambassador in London.\\nVolunteers\\nThe main part of Spain\\'s involvement in the war was through volunteers. They fought for both sides, largely reflecting the allegiances of the civil war.\\n\\nSpanish volunteers in Axis service\\n\\nAlthough Spanish caudillo Francisco Franco did not officially bring Spain into World War II on the side of the Axis, he permitted volunteers to join the German Army on the clear and guaranteed condition they would fight against Bolshevism (Soviet Communism) on the Eastern Front, and not against the western Allies. In this manner, he could keep Spain at peace with the western Allies, while repaying German support during the Spanish Civil War and providing an outlet for the strong anti-Communist sentiments of many Spanish nationalists. Spanish foreign minister Ramón Serrano Súñer suggested raising a volunteer corps, and at the commencement of Operation Barbarossa, Franco sent an official offer of help to Berlin.\\nHitler approved the use of Spanish volunteers on 24 June 1941. Volunteers flocked to recruiting offices in all the metropolitan areas of Spain. Cadets from the officer training school in Zaragoza volunteered in particularly large numbers. Initially, the Spanish government was prepared to send about 4,000 men, but soon realized that there were more than enough volunteers to fill an entire division: – the Blue Division or División Azul under Agustín Muñoz Grandes – including an air force squadron – the Blue Squadron, 18,104 men in all, with 2,612 officers and 15,492 soldiers.\\nThe Blue Division was trained in Germany before serving in the Siege of Leningrad, and notably at the Battle of Krasny Bor, where General Infantes\\' 6,000 Spanish soldiers threw back some 30,000 Soviet troops. The American ambassador called it a dubious distinction, since no other free country was attacking the Allies. In October 1943, under severe diplomatic pressure, the Blue Division was ordered home leaving a token force until March 1944. In all, about 45,000 Spanish served on the Eastern Front, mostly committed volunteers, and around 4,500 died. Joseph Stalin\\'s desire to retaliate against Franco by making an Allied invasion of Spain the first order of business at the Potsdam Conference in July 1945, was not supported by Harry S. Truman and Winston Churchill. War weary and unwilling to continue the conflict, Truman and Churchill persuaded Stalin to instead settle for a full trade embargo against Spain.\\n\\n372 members of the Blue Division, the Blue Legion, or volunteers of the Spanische-Freiwilligen Kompanie der SS 101 were taken prisoner by the victorious Red Army; 286 of these men were kept in captivity until 2 April 1954, when they returned to Spain aboard the ship Semiramis, supplied by the International Red Cross.[4]\\nSpanish volunteers in Allied service\\nAfter their defeat in the Spanish Civil War, numbers of Republican veterans and civilians went into exile in France; the French Republic interned them in refugee camps, such as Camp Gurs in southern France. To improve their conditions, many joined the French Foreign Legion at the start of World War II, making up a sizeable proportion of it. Around sixty thousand joined the French Resistance, mostly as guerrillas, with some also continuing the fight against Francisco Franco.[5] Several thousand more joined the Free French Forces and fought against the Axis Powers. Some sources have claimed that as many as 2,000 served in General Leclerc\\'s Second French Division, many of them from the former Durruti Column.[note 1]\\nThe 9th Armoured Company comprised almost entirely battle-hardened Spanish veterans; it became the first Allied military unit to enter Paris upon its liberation in August, 1944, where it met up with a large number of Spanish Maquis fighting alongside French resistance fighters. Furthermore, 1,000 Spanish Republicans served in the 13th Half-brigade of the French Foreign Legion.[6]\\nIn Eastern Europe, the Soviet Union received former Communist Spanish leaders and child evacuees from Republican families. When Germany invaded the Soviet Union in 1941, many, such as communist General Enrique Líster, joined the Red Army. According to Beevor, 700 Spanish Republicans served in the Red Army and another 700 operated as partisans behind the German lines.[6] Individual Spaniards, such as the double-agent Juan Pujol García (code name GARBO), also worked for the Allied cause.\\nDiplomacy\\nFrom the very beginning of World War II, Spain favoured the Axis Powers. Apart from ideology, Spain had a debt to Germany of $212 million for supplies of matériel during the Civil War. Indeed, in June 1940, after the Fall of France, the Spanish Ambassador to Berlin had presented a memorandum in which Franco declared he was \"ready under certain conditions to enter the war on the side of Germany and Italy\". Franco had cautiously decided to enter the war on the Axis side in June 1940, and to prepare his people for war, an anti-British and anti-French campaign was launched in the Spanish media that demanded French Morocco, Cameroon and the return of Gibraltar.[7] On 19 June 1940, Franco pressed along a message to Hitler saying he wanted to enter the war, but Hitler was annoyed at Franco\\'s demand for the French colony of Cameroon, which had been German before World War I, and which Hitler was planning on taking back.[8]\\n\\nAt first Adolf Hitler did not encourage Franco\\'s offer, as he was convinced of eventual victory. In August 1940, when Hitler became serious about having Spain enter the war, a major problem that emerged was the German demand for air and naval bases in Spanish Morocco and the Canaries, which Franco was completely opposed to.[9] After the victory over France, Hitler had revived Plan Z (shelved in September 1939) for having a huge fleet with the aim of fighting the United States, and he wanted bases in Morocco and the Canary islands for the planned showdown with America.[10] The American historian Gerhard Weinberg wrote: \"The fact that Germans were willing to forgo Spain\\'s participation in the war rather than abandon their plans for naval bases on and off the coast of Northwest Africa surely demonstrates the centrality of this latter issue to Hitler as he looked forward to naval war with the United States\".[10] In September, when the Royal Air Force had demonstrated its resilience in defeating the Luftwaffe in the Battle of Britain, Hitler promised Franco help in return for its active intervention. This had become part of a strategy to forestall Allied intervention in north-west Africa. Hitler promised that \"Germany would do everything in its power to help Spain\" and would recognise Spanish claims to French territory in Morocco, in exchange for a share of Moroccan raw materials. Franco responded warmly, but without any firm commitment. Falangist media agitated for irredentism, claiming for Spain the portions of Catalonia and the Basque Country that were still under French administration.[11][12]\\nHitler and Franco met only once at Hendaye, France on 23 October 1940 to fix the details of an alliance. By this time, the advantages had become less clear for either side. Franco asked for too much from Hitler. In exchange for entering the war alongside the alliance of Germany and Italy, Franco, among many things, demanded heavy fortification of the Canary Islands as well as large quantities of grain, fuel, armed vehicles, military aircraft and other armaments. In response to Franco\\'s nearly impossible demands, Hitler threatened Franco with a possible annexation of Spanish territory by Vichy France. At the end of the day, no agreement was reached. A few days later in Germany, Hitler would famously tell Mussolini, \"I prefer to have three or four of my own teeth pulled out than to speak to that man again!\" It is subject to historical debate whether Franco overplayed his hand by demanding too much from Hitler for Spanish entry into the war, or if he deliberately stymied the German dictator by setting the price for his alliance unrealistically high, knowing that Hitler would refuse his demands and thus save Spain from entering another devastating war.\\n\\nSpain relied upon oil supplies from the United States, and the US had agreed to listen to British recommendations on this. As a result, the Spanish were told that supplies would be restricted, albeit with a ten-week reserve. Lacking a strong navy, any Spanish intervention would rely, inevitably, upon German ability to supply oil. Some of Germany\\'s own activity relied upon captured French oil reserves, so additional needs from Spain were unhelpful. From the German point of view, Vichy\\'s active reaction to British and Free French attacks (Destruction of the French Fleet at Mers-el-Kebir and Dakar) had been encouraging, so perhaps Spanish intervention was less vital. Also, in order to keep Vichy \"on-side\", the proposed territorial changes in Morocco became a potential embarrassment and were diluted. As a consequence of this, neither side would make sufficient compromises and after nine hours, the talks failed.\\nIn December 1940, Hitler contacted Franco again via a letter sent by the German ambassador to Spain and returned to the issue of Gibraltar. Hitler attempted to force Franco\\'s hand with a blunt request for the passage of several divisions of German troops through Spain to attack Gibraltar. Franco refused, citing the danger that the United Kingdom still presented to Spain and the Spanish colonies. In his return letter, Franco told Hitler that he wanted to wait until Britain \"was on the point of collapse\". In a second diplomatic letter, Hitler got tougher and offered grain and military supplies to Spain as an inducement. By this time, however, Italian troops were being routed by the British in Cyrenaica and Italian East Africa, and the Royal Navy had displayed its freedom of action in Italian waters. The UK was clearly not finished. Franco responded \"that the fact has left the circumstances of October far behind\" and \"the Protocol then agreed must now be considered outmoded\".\\n\\nAccording to Franco\\'s own autobiography, he also met privately once with Italian leader Benito Mussolini in Bordighera, Italy on 12 February 1941[13] at Hitler\\'s request. Hitler hoped that Mussolini could persuade Franco to enter the war. However, Mussolini was not interested in Franco\\'s help due to the recent series of defeats his forces had suffered in North Africa and the Balkans.\\nFranco signed the Anti-Comintern Pact on 25 November 1941. In 1942, the planning of Operation Torch (American landings in North Africa) was considerably influenced by the apprehension that it might precipitate Spain to abandon neutrality and join the Axis, in which case the Straits of Gibraltar might be closed. In order to meet this contingency, it was decided by the Combined Chiefs of Staff to include a landing in Casablanca, in order to have an option of an overland route via Moroccan territory bypassing the Straits.\\nFranco\\'s policy of open support to the Axis Powers led to a period of postwar isolation for Spain as trade with most countries ceased. U.S. President Franklin Roosevelt, who had assured Franco that Spain would not suffer consequences from the United Nations (a wartime term for those nations allied against Germany), died in April 1945. Roosevelt\\'s successor, Harry S. Truman, as well as new Allied governments, were less friendly to Franco. A number of nations withdrew their ambassadors, and Spain was not admitted to the United Nations until 1955.\\nMilitary\\nAlthough it sought to avoid entering the war, Spain did make plans for defence of the country. Initially, the mass of the Spanish army was stationed in southern Spain in case of an Allied attack from Gibraltar during 1940 and 1941. However, Franco ordered the divisions to gradually redeploy in the mountains along the French border in case of a possible German invasion of Spain as Axis interest in Gibraltar grew. By the time it became clear that the Allies were gaining the upper hand in the conflict, Franco had amassed all his troops on the French border and received personal assurances from the leaders of Allied countries that they did not wish to invade Spain.\\nOperation Felix\\n\\n\\n\\nBefore Franco and Hitler\\'s October 1940 meeting in Hendaye, there had been Spanish-German planning for an attack, from Spain, upon the British territory of Gibraltar which was, and is, a British dependency and military base. At the time, Gibraltar was important for control of the western exit from the Mediterranean and the sea routes to the Suez Canal and Middle East, as well as Atlantic patrols.\\nThe Germans also appreciated the strategic importance of north-west Africa for bases and as a route for any future American involvement. Therefore, the plans included the occupation of the region by substantial German forces, to forestall any future Allied invasion attempt.\\nThe plan, Operation Felix, was in detailed form before the negotiations failed at Hendaye. By March 1941, military resources were being ear-marked for Barbarossa and the Soviet Union. Operation Felix-Heinrich was an amended form of Felix that would be invoked once certain objectives in Russia had been achieved. In the event, these conditions were not fulfilled and Franco still held back from entering the war.[16]\\nAfter the war, Field Marshal Wilhelm Keitel said: \"Instead of attacking Russia, we should have strangled the British Empire by closing the Mediterranean. The first step in the operation would have been the conquest of Gibraltar. That was another great opportunity we missed.\"[17] If that had succeeded, Hermann Göring proposed that Germany would \"... offer Britain the right to resume peaceful traffic through the Mediterranean if she came to terms with Germany and joined us in a war against Russia\".[16]\\nAs the war progressed and the tide turned against the Axis, the Germans planned for the event of an Allied attack through Spain. There were three successive plans, progressively less aggressive as German capability waned:\\nOperation Isabella\\n\\nThis was planned in April 1941 as a reaction to a proposed British landing on the Iberian peninsula near Gibraltar. German troops would advance into Spain to support Franco and expel the British wherever they landed.\\nOperation Ilona or Gisella\\nIlona was a scaled down version of Isabella, subsequently renamed Gisella. Devised in May 1942, to be invoked whether or not Spain stayed neutral. Ten German divisions would advance to Barcelona and, if necessary, towards Salamanca to support the Spanish army in fighting another proposed Allied landing either from the Mediterranean or Atlantic coasts.\\nOperation Nurnberg\\nDevised in June 1943, Nurnberg was purely a defensive operation in the Pyrenees along both sides of the Spanish-French border in the event of Allied landings in the Iberian peninsula, which were to repel an Allied advance from Spain into France.\\n\\nOccupation of Tangier\\nSpanish troops occupied the Tangier International Zone on 14 June 1940, the same day Paris fell to the Germans.  Despite calls by the writer Rafael Sánchez Mazas and other Spanish nationalists to annex \"Tánger español\", the Franco regime publicly considered the occupation a temporary wartime measure.[18] A diplomatic dispute between Britain and Spain over the latter\\'s abolition of the city\\'s international institutions in November 1940 led to a further guarantee of British rights and a Spanish promise not to fortify the area.[19] In May 1944, although it had served as a contact point between him and the later Axis Powers during the Spanish Civil War, Franco expelled all German diplomats from the Zone.[20]\\nThe territory was restored to its pre-war status on 11 October 1945.[21] In July 1952 the protecting powers met at Rabat to discuss the Zone\\'s future, agreeing to abolish it. Tangier joined with the rest of Morocco following the restoration of full sovereignty in 1956.[22]\\nBribes by MI6\\nAccording to a 2008 book, Winston Churchill authorised millions of dollars in bribes to Spanish generals in an effort to influence General Franco against entering the war on the side of Germany.[23]  In May 2013 files were released showing MI6 spent the present-day equivalent of more than $200 million bribing senior Spanish military officers, ship owners and other agents to keep Spain out of the war.[24]\\nResources and trade\\nDespite lacking cash, oil and other supplies, Francoist Spain was able to supply some essential materials to Germany. There was a series of secret war-time trade agreements between the two countries. The principal resource was wolfram (or tungsten) ore from German-owned mines in Spain. Tungsten was essential to Germany for its advanced precision engineering and therefore for armament production. Despite Allied attempts to buy all available supplies, which rocketed in price, and diplomatic efforts to influence Spain, supplies to Germany continued until August 1944.\\nPayment for wolfram was effectively set against the Spanish debt to Germany. Other minerals included iron ore, zinc, lead and mercury. Spain also acted as a conduit for goods from South America, for example, industrial diamonds and platinum. After the war, evidence was found of significant gold transactions between Germany and Spain, ceasing only in May 1945. It was believed that these were derived from Nazi looting of occupied lands, but attempts by the Allies to obtain control of the gold and return it were largely frustrated.\\nEspionage and sabotage\\n\\n\\nAs long as Spain permitted it, the Abwehr – the German intelligence organisation – was able to operate in Spain and Spanish Morocco, often with cooperation of the Nationalist government. Gibraltar\\'s installations were a prime target for sabotage, using sympathetic anti-British Spanish workers. One such attack occurred in June 1943, when a bomb caused a fire and explosions in the dockyard. The British were generally more successful after this and managed to use turned agents and sympathetic anti-Fascist Spaniards to uncover subsequent attacks. A total of 43 sabotage attempts were prevented in this way. In January 1944, two Spanish workers, convicted of attempted sabotage, were executed.\\nThe Abwehr also maintained observation posts along both sides of the Straits of Gibraltar, reporting on shipping movements. A German agent in Cádiz was the target of a successful Allied disinformation operation, Operation Mincemeat, prior to the invasion of Sicily in 1943. In early 1944, the situation changed. The Allies were clearly gaining the advantage over the Axis and one double agent had provided enough information for Britain to make a detailed protest to the Spanish government. As a result, the Spanish government declared its \"strict neutrality\". The Abwehr operation in southern Spain was consequently closed down. The rail station of Canfranc was the conduit for the smuggling of people and information from Vichy France to the British consulate in San Sebastián.\\nThe nearer border station of Irún could not be used as it bordered occupied France.\\nJews and other refugees\\nIn the first years of the war, \"Laws regulating their admittance were written and mostly ignored.\"[25] They were mainly from Western Europe, fleeing deportation to concentration camps from occupied France, but also Jews from Eastern Europe, especially Hungary. Trudi Alexy refers to the \"absurdity\" and \"paradox of refugees fleeing the Nazis\\' Final Solution to seek asylum in a country where no Jews had been allowed to live openly as Jews for over four centuries.\" [26]\\nThroughout World War II, Spanish diplomats of the Franco government extended their protection to Eastern European Jews, especially in Hungary. Jews claiming Spanish ancestry were provided with Spanish documentation without being required to prove their case and either left for Spain or survived the war with the help of their new legal status in occupied countries.\\nOnce the tide of war began to turn, and Count Francisco Gómez-Jordana Sousa succeeded Franco\\'s brother-in-law Serrano Súñer as Spain\\'s foreign minister, Spanish diplomacy became \"more sympathetic to Jews\", although Franco himself \"never said anything\" about this.[25] Around that same time, a contingent of Spanish doctors travelling in Poland were fully informed of the Nazi extermination plans by Governor-General Hans Frank, who was under the misimpression that they would share his views about the matter; when they came home, they passed the story to Admiral Luís Carrero Blanco, who told Franco.[27]\\nDiplomats discussed the possibility of Spain as a route to a containment camp for Jewish refugees near Casablanca but it came to naught due to lack of Free French and British support.[28] Nonetheless, control of the Spanish border with France relaxed somewhat at this time,[29] and thousands of Jews managed to cross into Spain (many by smugglers\\' routes). Almost all of them survived the war.[30] The American Jewish Joint Distribution Committee operated openly in Barcelona.[31]\\nShortly afterwards, Spain began giving citizenship to Sephardic Jews in Greece, Hungary, Bulgaria, and Romania; many Ashkenazic Jews also managed to be included, as did some non-Jews. The Spanish head of mission in Budapest, Ángel Sanz Briz, saved thousands of Ashkenazim in Hungary by granting them Spanish citizenship, placing them in safe houses and teaching them minimal Spanish so they could pretend to be Sephardim, at least to someone who did not know Spanish. The Spanish diplomatic corps was performing a balancing act: Alexy conjectures that the number of Jews they took in was limited by how much German hostility they were willing to engender.[32]\\nToward the war\\'s end, Sanz Briz had to flee Budapest, leaving these Jews open to arrest and deportation. An Italian diplomat, Giorgio Perlasca, who was himself living under Spanish protection, used forged documents to persuade the Hungarian authorities that he was the new Spanish Ambassador. As such, he continued Spanish protection of Hungarian Jews until the Red Army arrived.[33]\\nAlthough Spain effectively undertook more to help Jews escape deportation to the concentration camps than most neutral countries did,[33][34] there has been debate about Spain\\'s wartime attitude towards refugees. Franco\\'s regime, despite its aversion to Zionism and \"Judeo\"-Freemasonry, does not appear to have shared the rabid anti-Semitic ideology promoted by the Nazis. About 25,000 to 35,000 refugees, mainly Jews, were allowed to transit through Spain to Portugal and beyond.\\nSome historians argue that these facts demonstrate a humane attitude by Franco\\'s regime, while others point out that the regime only permitted Jewish transit through Spain. After the war, Franco\\'s regime was quite hospitable to those who had been responsible for the deportation of the Jews, notably Louis Darquier de Pellepoix, Commissioner for Jewish Affairs (May 1942 – February 1944) under the Vichy Régime in France, and to many other former Nazis, such as Otto Skorzeny and Léon Degrelle, and other former Fascists.[35]\\nJosé María Finat y Escrivá de Romaní, Franco\\'s chief of security, issued an official order dated May 13, 1941 to all provincial governors requesting a list of all Jews, both local and foreign, present in their districts. After the list of six thousand names was compiled, Romani was appointed Spain\\'s ambassador to Germany, enabling him to deliver it personally to Himmler. Following the defeat of Germany in 1945, the Spanish government attempted to destroy all evidence of cooperation with the Nazis, but this official order survived.[36]\\nJapanese war reparations\\n\\nAt the end of the war, Japan was compelled to pay high amounts of money or goods to several nations to cover damage or injury inflicted during the war. In the case of Spain, the reparations were due to the deaths of over a hundred Spanish citizens, including several Catholic missionaries, and great destruction of Spanish properties in the Philippines during the Japanese occupation. To that effect, in 1954 Japan concluded 54 bilateral agreements including one with Spain for $5.5 million, paid in 1957.\\nSee also\\nMoscow Gold\\nSpanish Maquis\\nLaurel Incident\\nNeutral powers during World War II\\nNotes\\n\\n\\nFurther reading\\n\\n\\nHayes, Carlton J. H. Wartime mission in Spain, 1942–1945 (1945) ISBN9781121497245. by the U.S. ambassador\\nLeón-Aguinaga, Pablo. \"The Trouble with Propaganda: the Second World War, Franco\\'s Spain, and the Origins of US Post-War Public Diplomacy.\" International History Review 37.2 (2015): 342-365. \\n\\nPreston, Paul. \"Spain\" in The Cambridge History of the Second World War: vol 2 (2015) pp 301–323 DOI: \\n\\nThomàs, J. ed. Roosevelt and Franco During the Second World War: From the Spanish Civil War to Pearl Harbor (Springer, 2008).\\n\\n\\n\\n\\n\\n\\n\\n\\n, Benito Bermejo and Sandra Checa, Ministerio de Cultura de España, 2006. Re-published in Portable Document Format.\\n, Mikel Rodríguez, Euskonews & Media 301.\\nJimmy Burns, Papa Spy: Love, Faith & Betrayal in Wartime Spain. London, Bloomsbury, 2009. \\n\\n\\n\\n\\n\\n\\n\\n\\n\\n',\n",
       " 'document_url': 'https://en.wikipedia.org/wiki/Spain%20during%20World%20War%20II',\n",
       " 'id': 514}"
      ]
     },
     "execution_count": 47,
     "metadata": {},
     "output_type": "execute_result"
    }
   ],
   "source": [
    "tydiqa_prompt[0][1]"
   ]
  },
  {
   "cell_type": "code",
   "execution_count": 58,
   "metadata": {},
   "outputs": [
    {
     "name": "stderr",
     "output_type": "stream",
     "text": [
      "The `load_in_4bit` and `load_in_8bit` arguments are deprecated and will be removed in the future versions. Please, pass a `BitsAndBytesConfig` object in `quantization_config` argument instead.\n"
     ]
    }
   ],
   "source": [
    "from transformers import AutoModelForCausalLM, AutoTokenizer\n",
    "model, tokenizer = AutoModelForCausalLM.from_pretrained('meta-llama/Llama-3.2-1B-Instruct', device_map = 'auto',load_in_8bit = True,attn_implementation = 'flash_attention_2'), AutoTokenizer.from_pretrained('meta-llama/Llama-3.2-1B-Instruct')\n"
   ]
  },
  {
   "cell_type": "code",
   "execution_count": 63,
   "metadata": {},
   "outputs": [
    {
     "name": "stderr",
     "output_type": "stream",
     "text": [
      "/home/abhi/.local/lib/python3.12/site-packages/transformers/generation/configuration_utils.py:628: UserWarning: `do_sample` is set to `False`. However, `temperature` is set to `0.6` -- this flag is only used in sample-based generation modes. You should set `do_sample=True` or unset `temperature`.\n",
      "  warnings.warn(\n",
      "/home/abhi/.local/lib/python3.12/site-packages/transformers/generation/configuration_utils.py:633: UserWarning: `do_sample` is set to `False`. However, `top_p` is set to `0.9` -- this flag is only used in sample-based generation modes. You should set `do_sample=True` or unset `top_p`.\n",
      "  warnings.warn(\n",
      "Setting `pad_token_id` to `eos_token_id`:128001 for open-end generation.\n"
     ]
    }
   ],
   "source": [
    "#tokenizer.padding_side = 'left'\n",
    "tokenizer.pad_token = tokenizer.eos_token\n",
    "prompts = ['What is the capital of India? Please provide the shortest answer possible, long answers are penalized heavily. No explaination is required.', 'Capital of Canada? Please provide the shortest answer possible, long answers are penalized heavily. No explaination is required.']\n",
    "input_ids = tokenizer(prompts, return_tensors='pt',padding = True).to(model.device)\n",
    "model.eval()\n",
    "with torch.no_grad():\n",
    "    outputs = model.generate(input_ids['input_ids'], attention_mask = input_ids['attention_mask'], max_new_tokens=16,num_return_sequences = 1, do_sample = False, output_scores=True, return_dict_in_generate=True)"
   ]
  },
  {
   "cell_type": "code",
   "execution_count": 64,
   "metadata": {},
   "outputs": [
    {
     "data": {
      "text/plain": [
       "['<|begin_of_text|>What is the capital of India? Please provide the shortest answer possible, long answers are penalized heavily. No explaination is required. The answer is: New Delhi.<|eot_id|>',\n",
       " '<|eot_id|><|eot_id|><|eot_id|><|begin_of_text|>Capital of Canada? Please provide the shortest answer possible, long answers are penalized heavily. No explaination is required. Ottawa.<|eot_id|><|end_of_text|><|end_of_text|><|end_of_text|><|end_of_text|><|end_of_text|>']"
      ]
     },
     "execution_count": 64,
     "metadata": {},
     "output_type": "execute_result"
    }
   ],
   "source": [
    "tokenizer.batch_decode(outputs['sequences'], skip_special_tokens=False)"
   ]
  },
  {
   "cell_type": "code",
   "execution_count": 76,
   "metadata": {},
   "outputs": [
    {
     "data": {
      "text/plain": [
       "[-5.369320798771271, -3.8233020799093045]"
      ]
     },
     "execution_count": 76,
     "metadata": {},
     "output_type": "execute_result"
    }
   ],
   "source": [
    "import numpy as np\n",
    "transition_scores = model.compute_transition_scores(outputs['sequences'], outputs['scores'], normalize_logits=True) # batch_size, generated_tokens\n",
    "input_length = input_ids['input_ids'].shape[1]   # batch size, seq len\n",
    "generated_tokens = outputs['sequences'][:, input_length:] # batch_size, generated_tokens and includes end of text token\n",
    "sequence_probs = []\n",
    "transition_scores = transition_scores.detach().cpu().numpy()\n",
    "generated_tokens = generated_tokens.detach().cpu().numpy()\n",
    "for i in range(len(generated_tokens)):\n",
    "    sequence_prob = 0.0\n",
    "    for tok, score in zip(generated_tokens[i], transition_scores[i]):\n",
    "        if tok == tokenizer.pad_token_id:\n",
    "            break\n",
    "        else:\n",
    "                sequence_prob += score\n",
    "    sequence_prob = np.exp(sequence_prob)\n",
    "    sequence_prob = np.log(sequence_prob/(1.0 - sequence_prob))\n",
    "    sequence_probs.append(sequence_prob)\n",
    "\n",
    "\n",
    "sequence_probs\n",
    "\n",
    "# for i in range(len(generated_tokens)):\n",
    "#         sequence_prob = 1.0\n",
    "#         for tok, score in zip(generated_tokens[i], transition_scores[i]):\n",
    "#                 token_prob = np.exp(score.detach().cpu().numpy())\n",
    "#                 sequence_prob += np.exp(score.detach().cpu().numpy())\n",
    "#                 print(f\"| {tok:5d} | {tokenizer.decode(tok):8s} | {score.detach().cpu().numpy():.4f} | {np.exp(score.detach().cpu().numpy()):.2%}\")\n",
    "\n",
    "        #print(tokenizer.decode(generated_tokens[i]))\n",
    "\n",
    "\n",
    "#print(generated_tokens.shape)\n",
    "\n",
    "#print(input_length.shape\n",
    "# # generated_tokens = outputs['sequences'][:, input_length:]\n",
    "\n",
    "# for tok, score in zip(generated_tokens[0], transition_scores[0]):\n",
    "#         print(f\"| {tok:5d} | {tokenizer.decode(tok):8s} | {score.detach().cpu().numpy():.4f} | {np.exp(score.detach().cpu().numpy()):.2%}\")\n",
    "\n",
    "\n",
    "# for tok, score in zip(generated_tokens[1], transition_scores[1]):\n",
    "#         print(f\"| {tok:5d} | {tokenizer.decode(tok):8s} | {score.detach().cpu().numpy():.4f} | {np.exp(score.detach().cpu().numpy()):.2%}\")"
   ]
  },
  {
   "cell_type": "code",
   "execution_count": 67,
   "metadata": {},
   "outputs": [
    {
     "data": {
      "text/plain": [
       "(128009, 128001)"
      ]
     },
     "execution_count": 67,
     "metadata": {},
     "output_type": "execute_result"
    }
   ],
   "source": [
    "eot_id = tokenizer.convert_tokens_to_ids('<|eot_id|>')\n",
    "end_of_text_id = tokenizer.convert_tokens_to_ids('<|end_of_text|>')\n",
    "eot_id, end_of_text_id\n",
    "\n",
    "#outputs['scores'][0].shape\n"
   ]
  },
  {
   "cell_type": "code",
   "execution_count": 22,
   "metadata": {},
   "outputs": [
    {
     "data": {
      "text/plain": [
       "torch.Size([2, 24])"
      ]
     },
     "execution_count": 22,
     "metadata": {},
     "output_type": "execute_result"
    }
   ],
   "source": [
    "outputs['sequences'].shape\n"
   ]
  },
  {
   "cell_type": "code",
   "execution_count": 30,
   "metadata": {},
   "outputs": [
    {
     "data": {
      "text/plain": [
       "['What is the capital of India? Please provide the shortest answer possible, long answers are penalized heavily. No explaination is required. The answer is: New Delhi.',\n",
       " 'What is the capital of France? Please provide the shortest answer possible, long answers are penalized heavily. No explaination is required. Paris is the capital of France.']"
      ]
     },
     "execution_count": 30,
     "metadata": {},
     "output_type": "execute_result"
    }
   ],
   "source": [
    "#from context_citer import run_experiment\n",
    "#from context_citer_data_utils import read_data, preprocess_hotpot, preprocess_tydiqa\n",
    "#from subtract import run_and_evaluate_method as subtract_and_evaluate_method"
   ]
  }
 ],
 "metadata": {
  "kernelspec": {
   "display_name": "spec_explain",
   "language": "python",
   "name": "python3"
  },
  "language_info": {
   "codemirror_mode": {
    "name": "ipython",
    "version": 3
   },
   "file_extension": ".py",
   "mimetype": "text/x-python",
   "name": "python",
   "nbconvert_exporter": "python",
   "pygments_lexer": "ipython3",
   "version": "3.12.3"
  }
 },
 "nbformat": 4,
 "nbformat_minor": 2
}
